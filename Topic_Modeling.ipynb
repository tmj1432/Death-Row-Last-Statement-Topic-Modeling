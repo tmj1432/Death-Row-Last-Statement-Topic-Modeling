{
  "cells": [
    {
      "cell_type": "markdown",
      "metadata": {
        "id": "view-in-github",
        "colab_type": "text"
      },
      "source": [
        "<a href=\"https://colab.research.google.com/github/tmj1432/Death-Row-Last-Statement-Topic-Modeling/blob/main/Topic_Modeling.ipynb\" target=\"_parent\"><img src=\"https://colab.research.google.com/assets/colab-badge.svg\" alt=\"Open In Colab\"/></a>"
      ]
    },
    {
      "cell_type": "markdown",
      "source": [
        "## Introduction"
      ],
      "metadata": {
        "id": "YV74fLP5iZvl"
      },
      "id": "YV74fLP5iZvl"
    },
    {
      "cell_type": "markdown",
      "source": [
        "In this notebook, we will be applying topic modeling on last statements from death row inmates. "
      ],
      "metadata": {
        "id": "ihpJSo8So48J"
      },
      "id": "ihpJSo8So48J"
    },
    {
      "cell_type": "markdown",
      "source": [
        "---"
      ],
      "metadata": {
        "id": "qtUUsZjbico0"
      },
      "id": "qtUUsZjbico0"
    },
    {
      "cell_type": "markdown",
      "source": [
        "## Installation"
      ],
      "metadata": {
        "id": "LhIhB3v0iWGS"
      },
      "id": "LhIhB3v0iWGS"
    },
    {
      "cell_type": "code",
      "source": [
        "# pip install bertopic"
      ],
      "metadata": {
        "id": "TVUkkWEGHjxq"
      },
      "id": "TVUkkWEGHjxq",
      "execution_count": 94,
      "outputs": []
    },
    {
      "cell_type": "code",
      "source": [
        "# nltk.download('stopwords')"
      ],
      "metadata": {
        "id": "u0_JDDclSORf"
      },
      "id": "u0_JDDclSORf",
      "execution_count": 95,
      "outputs": []
    },
    {
      "cell_type": "code",
      "source": [
        "# nltk.download('wordnet')"
      ],
      "metadata": {
        "id": "qmXMK6x-TcG2"
      },
      "id": "qmXMK6x-TcG2",
      "execution_count": 96,
      "outputs": []
    },
    {
      "cell_type": "code",
      "source": [
        "# nltk.download('omw-1.4')"
      ],
      "metadata": {
        "id": "uLvSOGYPTiRJ"
      },
      "id": "uLvSOGYPTiRJ",
      "execution_count": 97,
      "outputs": []
    },
    {
      "cell_type": "markdown",
      "source": [
        "---"
      ],
      "metadata": {
        "id": "-4mobCQLidkD"
      },
      "id": "-4mobCQLidkD"
    },
    {
      "cell_type": "markdown",
      "id": "7ac117ad",
      "metadata": {
        "id": "7ac117ad"
      },
      "source": [
        "## Import Libraries"
      ]
    },
    {
      "cell_type": "code",
      "source": [
        "from google.colab import drive\n",
        "drive.mount('/content/drive')"
      ],
      "metadata": {
        "colab": {
          "base_uri": "https://localhost:8080/"
        },
        "id": "Cw93VQRu8t3S",
        "outputId": "f9e08efb-515c-429c-a5d9-e518eaefc687"
      },
      "id": "Cw93VQRu8t3S",
      "execution_count": 98,
      "outputs": [
        {
          "output_type": "stream",
          "name": "stdout",
          "text": [
            "Drive already mounted at /content/drive; to attempt to forcibly remount, call drive.mount(\"/content/drive\", force_remount=True).\n"
          ]
        }
      ]
    },
    {
      "cell_type": "code",
      "execution_count": 99,
      "id": "fc06b32e",
      "metadata": {
        "id": "fc06b32e"
      },
      "outputs": [],
      "source": [
        "import pandas as pd\n",
        "from bertopic import BERTopic\n",
        "import nltk\n",
        "from nltk.stem import WordNetLemmatizer\n",
        "from nltk.corpus import stopwords\n",
        "from umap import UMAP\n",
        "from hdbscan import HDBSCAN\n",
        "from sklearn.cluster import KMeans\n",
        "from sklearn.cluster import AgglomerativeClustering"
      ]
    },
    {
      "cell_type": "markdown",
      "id": "e00b2faf",
      "metadata": {
        "id": "e00b2faf"
      },
      "source": [
        "---"
      ]
    },
    {
      "cell_type": "markdown",
      "id": "eeb1babc",
      "metadata": {
        "id": "eeb1babc"
      },
      "source": [
        "## Data Cleaning"
      ]
    },
    {
      "cell_type": "code",
      "execution_count": 100,
      "id": "1f5b001a",
      "metadata": {
        "id": "1f5b001a"
      },
      "outputs": [],
      "source": [
        "df = pd.read_csv('/content/drive/MyDrive/Colab Notebooks/Last Messages Topic Modelling/last_messages.csv')"
      ]
    },
    {
      "cell_type": "markdown",
      "id": "270e101d",
      "metadata": {
        "id": "270e101d"
      },
      "source": [
        "### Null Values"
      ]
    },
    {
      "cell_type": "code",
      "execution_count": 101,
      "id": "81c2fddd",
      "metadata": {
        "colab": {
          "base_uri": "https://localhost:8080/"
        },
        "id": "81c2fddd",
        "outputId": "c9c8a450-6fec-4801-82d2-7f5e927821a2"
      },
      "outputs": [
        {
          "output_type": "execute_result",
          "data": {
            "text/plain": [
              "Unnamed: 0      0\n",
              "0               0\n",
              "1               2\n",
              "2               2\n",
              "3               2\n",
              "4               2\n",
              "5               3\n",
              "6             381\n",
              "7             434\n",
              "8             453\n",
              "9             464\n",
              "10            469\n",
              "11            472\n",
              "dtype: int64"
            ]
          },
          "metadata": {},
          "execution_count": 101
        }
      ],
      "source": [
        "df.isna().sum()"
      ]
    },
    {
      "cell_type": "code",
      "execution_count": 102,
      "id": "eaf9b128",
      "metadata": {
        "scrolled": false,
        "colab": {
          "base_uri": "https://localhost:8080/",
          "height": 435
        },
        "id": "eaf9b128",
        "outputId": "5068f368-78d9-4587-bfcc-4212eab65ceb"
      },
      "outputs": [
        {
          "output_type": "execute_result",
          "data": {
            "text/plain": [
              "     Unnamed: 0                   0                  1        2  \\\n",
              "425         425  Date of Execution:    January 4, 1995  Inmate:   \n",
              "426         426  Date of Execution:  December 11, 1994  Inmate:   \n",
              "427         427  Date of Execution:         12/06/1994  Inmate:   \n",
              "438         438  Date of Execution:    August 31, 1993  Inmate:   \n",
              "474         474  Date of Execution:   December 7, 1982  Inmate:   \n",
              "\n",
              "                             3                4  \\\n",
              "425          Jesse Jacobs #872  Last Statement:   \n",
              "426      Raymond Kinnamon #808  Last Statement:   \n",
              "427          Herman Clark #715  Last Statement:   \n",
              "438  Richard J. Wilkerson #756  Last Statement:   \n",
              "474   Charlie Brooks, Jr. #592  Last Statement:   \n",
              "\n",
              "                                                     5  \\\n",
              "425  I have committed lots of sin in my life, but I...   \n",
              "426  …guys like them got tied up in something like ...   \n",
              "427  I told the daughter not to come. Discontinue; ...   \n",
              "438  This execution is not justice. This execution ...   \n",
              "474  Statement to the Media: I, at this very moment...   \n",
              "\n",
              "                                                     6  \\\n",
              "425  I would like to tell my son, daughter and wife...   \n",
              "426  I’m not ready to go, but I have no choice; I s...   \n",
              "427  Jesus Christ is the Lord of Lords and the King...   \n",
              "438  I will say once again…..This execution isn’t j...   \n",
              "474                                            Spoken:   \n",
              "\n",
              "                                                     7  \\\n",
              "425  Eden, if they want proof of them, give it to t...   \n",
              "426  If my words can persuade you to discontinue th...   \n",
              "427                                                NaN   \n",
              "438    \"Seeing Through the Eyes of a Death Row Inmate\"   \n",
              "474  Yes, I do. \\r\\n  I love you. \\r\\n  Asdadu an l...   \n",
              "\n",
              "                                                     8                     9  \\\n",
              "425                                                NaN                   NaN   \n",
              "426  (I gave Warden Hodges the phone at this time a...                   NaN   \n",
              "427                                                NaN                   NaN   \n",
              "438  Sometime I wonder why, why he? Why did he go o...  Richard J. Wilkerson   \n",
              "474                                                NaN                   NaN   \n",
              "\n",
              "                                           10   11  \n",
              "425                                       NaN  NaN  \n",
              "426                                       NaN  NaN  \n",
              "427                                       NaN  NaN  \n",
              "438  Written through his sister Michelle Winn  NaN  \n",
              "474                                       NaN  NaN  "
            ],
            "text/html": [
              "\n",
              "  <div id=\"df-33acf6db-3bc9-4eab-91d1-958d9c2d1250\">\n",
              "    <div class=\"colab-df-container\">\n",
              "      <div>\n",
              "<style scoped>\n",
              "    .dataframe tbody tr th:only-of-type {\n",
              "        vertical-align: middle;\n",
              "    }\n",
              "\n",
              "    .dataframe tbody tr th {\n",
              "        vertical-align: top;\n",
              "    }\n",
              "\n",
              "    .dataframe thead th {\n",
              "        text-align: right;\n",
              "    }\n",
              "</style>\n",
              "<table border=\"1\" class=\"dataframe\">\n",
              "  <thead>\n",
              "    <tr style=\"text-align: right;\">\n",
              "      <th></th>\n",
              "      <th>Unnamed: 0</th>\n",
              "      <th>0</th>\n",
              "      <th>1</th>\n",
              "      <th>2</th>\n",
              "      <th>3</th>\n",
              "      <th>4</th>\n",
              "      <th>5</th>\n",
              "      <th>6</th>\n",
              "      <th>7</th>\n",
              "      <th>8</th>\n",
              "      <th>9</th>\n",
              "      <th>10</th>\n",
              "      <th>11</th>\n",
              "    </tr>\n",
              "  </thead>\n",
              "  <tbody>\n",
              "    <tr>\n",
              "      <th>425</th>\n",
              "      <td>425</td>\n",
              "      <td>Date of Execution:</td>\n",
              "      <td>January 4, 1995</td>\n",
              "      <td>Inmate:</td>\n",
              "      <td>Jesse Jacobs #872</td>\n",
              "      <td>Last Statement:</td>\n",
              "      <td>I have committed lots of sin in my life, but I...</td>\n",
              "      <td>I would like to tell my son, daughter and wife...</td>\n",
              "      <td>Eden, if they want proof of them, give it to t...</td>\n",
              "      <td>NaN</td>\n",
              "      <td>NaN</td>\n",
              "      <td>NaN</td>\n",
              "      <td>NaN</td>\n",
              "    </tr>\n",
              "    <tr>\n",
              "      <th>426</th>\n",
              "      <td>426</td>\n",
              "      <td>Date of Execution:</td>\n",
              "      <td>December 11, 1994</td>\n",
              "      <td>Inmate:</td>\n",
              "      <td>Raymond Kinnamon #808</td>\n",
              "      <td>Last Statement:</td>\n",
              "      <td>…guys like them got tied up in something like ...</td>\n",
              "      <td>I’m not ready to go, but I have no choice; I s...</td>\n",
              "      <td>If my words can persuade you to discontinue th...</td>\n",
              "      <td>(I gave Warden Hodges the phone at this time a...</td>\n",
              "      <td>NaN</td>\n",
              "      <td>NaN</td>\n",
              "      <td>NaN</td>\n",
              "    </tr>\n",
              "    <tr>\n",
              "      <th>427</th>\n",
              "      <td>427</td>\n",
              "      <td>Date of Execution:</td>\n",
              "      <td>12/06/1994</td>\n",
              "      <td>Inmate:</td>\n",
              "      <td>Herman Clark #715</td>\n",
              "      <td>Last Statement:</td>\n",
              "      <td>I told the daughter not to come. Discontinue; ...</td>\n",
              "      <td>Jesus Christ is the Lord of Lords and the King...</td>\n",
              "      <td>NaN</td>\n",
              "      <td>NaN</td>\n",
              "      <td>NaN</td>\n",
              "      <td>NaN</td>\n",
              "      <td>NaN</td>\n",
              "    </tr>\n",
              "    <tr>\n",
              "      <th>438</th>\n",
              "      <td>438</td>\n",
              "      <td>Date of Execution:</td>\n",
              "      <td>August 31, 1993</td>\n",
              "      <td>Inmate:</td>\n",
              "      <td>Richard J. Wilkerson #756</td>\n",
              "      <td>Last Statement:</td>\n",
              "      <td>This execution is not justice. This execution ...</td>\n",
              "      <td>I will say once again…..This execution isn’t j...</td>\n",
              "      <td>\"Seeing Through the Eyes of a Death Row Inmate\"</td>\n",
              "      <td>Sometime I wonder why, why he? Why did he go o...</td>\n",
              "      <td>Richard J. Wilkerson</td>\n",
              "      <td>Written through his sister Michelle Winn</td>\n",
              "      <td>NaN</td>\n",
              "    </tr>\n",
              "    <tr>\n",
              "      <th>474</th>\n",
              "      <td>474</td>\n",
              "      <td>Date of Execution:</td>\n",
              "      <td>December 7, 1982</td>\n",
              "      <td>Inmate:</td>\n",
              "      <td>Charlie Brooks, Jr. #592</td>\n",
              "      <td>Last Statement:</td>\n",
              "      <td>Statement to the Media: I, at this very moment...</td>\n",
              "      <td>Spoken:</td>\n",
              "      <td>Yes, I do. \\r\\n  I love you. \\r\\n  Asdadu an l...</td>\n",
              "      <td>NaN</td>\n",
              "      <td>NaN</td>\n",
              "      <td>NaN</td>\n",
              "      <td>NaN</td>\n",
              "    </tr>\n",
              "  </tbody>\n",
              "</table>\n",
              "</div>\n",
              "      <button class=\"colab-df-convert\" onclick=\"convertToInteractive('df-33acf6db-3bc9-4eab-91d1-958d9c2d1250')\"\n",
              "              title=\"Convert this dataframe to an interactive table.\"\n",
              "              style=\"display:none;\">\n",
              "        \n",
              "  <svg xmlns=\"http://www.w3.org/2000/svg\" height=\"24px\"viewBox=\"0 0 24 24\"\n",
              "       width=\"24px\">\n",
              "    <path d=\"M0 0h24v24H0V0z\" fill=\"none\"/>\n",
              "    <path d=\"M18.56 5.44l.94 2.06.94-2.06 2.06-.94-2.06-.94-.94-2.06-.94 2.06-2.06.94zm-11 1L8.5 8.5l.94-2.06 2.06-.94-2.06-.94L8.5 2.5l-.94 2.06-2.06.94zm10 10l.94 2.06.94-2.06 2.06-.94-2.06-.94-.94-2.06-.94 2.06-2.06.94z\"/><path d=\"M17.41 7.96l-1.37-1.37c-.4-.4-.92-.59-1.43-.59-.52 0-1.04.2-1.43.59L10.3 9.45l-7.72 7.72c-.78.78-.78 2.05 0 2.83L4 21.41c.39.39.9.59 1.41.59.51 0 1.02-.2 1.41-.59l7.78-7.78 2.81-2.81c.8-.78.8-2.07 0-2.86zM5.41 20L4 18.59l7.72-7.72 1.47 1.35L5.41 20z\"/>\n",
              "  </svg>\n",
              "      </button>\n",
              "      \n",
              "  <style>\n",
              "    .colab-df-container {\n",
              "      display:flex;\n",
              "      flex-wrap:wrap;\n",
              "      gap: 12px;\n",
              "    }\n",
              "\n",
              "    .colab-df-convert {\n",
              "      background-color: #E8F0FE;\n",
              "      border: none;\n",
              "      border-radius: 50%;\n",
              "      cursor: pointer;\n",
              "      display: none;\n",
              "      fill: #1967D2;\n",
              "      height: 32px;\n",
              "      padding: 0 0 0 0;\n",
              "      width: 32px;\n",
              "    }\n",
              "\n",
              "    .colab-df-convert:hover {\n",
              "      background-color: #E2EBFA;\n",
              "      box-shadow: 0px 1px 2px rgba(60, 64, 67, 0.3), 0px 1px 3px 1px rgba(60, 64, 67, 0.15);\n",
              "      fill: #174EA6;\n",
              "    }\n",
              "\n",
              "    [theme=dark] .colab-df-convert {\n",
              "      background-color: #3B4455;\n",
              "      fill: #D2E3FC;\n",
              "    }\n",
              "\n",
              "    [theme=dark] .colab-df-convert:hover {\n",
              "      background-color: #434B5C;\n",
              "      box-shadow: 0px 1px 3px 1px rgba(0, 0, 0, 0.15);\n",
              "      filter: drop-shadow(0px 1px 2px rgba(0, 0, 0, 0.3));\n",
              "      fill: #FFFFFF;\n",
              "    }\n",
              "  </style>\n",
              "\n",
              "      <script>\n",
              "        const buttonEl =\n",
              "          document.querySelector('#df-33acf6db-3bc9-4eab-91d1-958d9c2d1250 button.colab-df-convert');\n",
              "        buttonEl.style.display =\n",
              "          google.colab.kernel.accessAllowed ? 'block' : 'none';\n",
              "\n",
              "        async function convertToInteractive(key) {\n",
              "          const element = document.querySelector('#df-33acf6db-3bc9-4eab-91d1-958d9c2d1250');\n",
              "          const dataTable =\n",
              "            await google.colab.kernel.invokeFunction('convertToInteractive',\n",
              "                                                     [key], {});\n",
              "          if (!dataTable) return;\n",
              "\n",
              "          const docLinkHtml = 'Like what you see? Visit the ' +\n",
              "            '<a target=\"_blank\" href=https://colab.research.google.com/notebooks/data_table.ipynb>data table notebook</a>'\n",
              "            + ' to learn more about interactive tables.';\n",
              "          element.innerHTML = '';\n",
              "          dataTable['output_type'] = 'display_data';\n",
              "          await google.colab.output.renderOutput(dataTable, element);\n",
              "          const docLink = document.createElement('div');\n",
              "          docLink.innerHTML = docLinkHtml;\n",
              "          element.appendChild(docLink);\n",
              "        }\n",
              "      </script>\n",
              "    </div>\n",
              "  </div>\n",
              "  "
            ]
          },
          "metadata": {},
          "execution_count": 102
        }
      ],
      "source": [
        "df.loc[df['6'].notna()].tail()"
      ]
    },
    {
      "cell_type": "markdown",
      "id": "fd73d778",
      "metadata": {
        "id": "fd73d778"
      },
      "source": [
        "Since the messages spread across columns 5 to 11, I will be combining all of them into 1 column."
      ]
    },
    {
      "cell_type": "code",
      "execution_count": 103,
      "id": "d3cd06ff",
      "metadata": {
        "id": "d3cd06ff"
      },
      "outputs": [],
      "source": [
        "# filling null values with empty space so that we can concatenate the messages\n",
        "df.fillna(' ', inplace=True)"
      ]
    },
    {
      "cell_type": "code",
      "execution_count": 104,
      "id": "4dd54c3d",
      "metadata": {
        "id": "4dd54c3d"
      },
      "outputs": [],
      "source": [
        "# concatenate messages in column 5 to 11 inclusive\n",
        "df['last_message'] = ''\n",
        "for i in range(5,12):\n",
        "    df['last_message'] = df['last_message'] + df[str(i)] + ' '"
      ]
    },
    {
      "cell_type": "code",
      "execution_count": 105,
      "id": "f714f0c6",
      "metadata": {
        "scrolled": false,
        "colab": {
          "base_uri": "https://localhost:8080/",
          "height": 137
        },
        "id": "f714f0c6",
        "outputId": "002dd35e-98b0-479f-c8b0-4605612d9cb5"
      },
      "outputs": [
        {
          "output_type": "execute_result",
          "data": {
            "text/plain": [
              "'This execution is not justice. This execution is an act of revenge! If this is justice, then justice is blind. Take a borderline retarded young male who for the 1st time ever in his life committed a felony then contaminate his TRUE tell all confession add a judge who discriminates plus an ALL-WHITE JURY pile on an ineffective assistance of counsel and execute the option of rehabilitation persecute the witnesses and you have created a death sentence for a family lasting over 10 years. I will say once again…..This execution isn’t justice – but an act of revenge. Killing R.J. will not bring Anil back, it only justifies \"an eye for an eye and a tooth for a tooth.\" It’s too late to help R.J., but maybe this poem will help someone else out there. \"Seeing Through the Eyes of a Death Row Inmate\" Sometime I wonder why, why he? Why did he go out into the world to see? To be out there and see what really did exist, now his name is written down on the Death Row list. I can only imagine how lonesome he was all by himself. We both knew he had no future left! His hopes and dreams became a fantasy. He often said, \"There’s nothing left of me.\" I have asked myself, why did he get involved with drugs? He could never explain why he hung around with thugs? Did it really make him feel like a king – Did he actually think he was capable of getting away with anything? He knew the thought of life wasn’t ticking in his head. There’s nothing left but the memory of those who lay dead. What was did, cannot be undone. He was confessed, he was one of the guilty ones. What would he say to the victim’s family? – I’m sorry and my head wasn’t on straight. I hope you will accept my apology, even though it’s too late. I never knew I would take a life and commit a crime. I regret it because now I have to face the lethal injection while doing death row time. I knew I would pay with struggle and strife, but I never thought the cost would be me losing my life. Richard J. Wilkerson Written through his sister Michelle Winn   '"
            ],
            "application/vnd.google.colaboratory.intrinsic+json": {
              "type": "string"
            }
          },
          "metadata": {},
          "execution_count": 105
        }
      ],
      "source": [
        "# checking index 438 as its message spans through columns 5 to 11\n",
        "df['last_message'][438]"
      ]
    },
    {
      "cell_type": "markdown",
      "id": "4dcf7e68",
      "metadata": {
        "id": "4dcf7e68"
      },
      "source": [
        "### Check for duplicates"
      ]
    },
    {
      "cell_type": "code",
      "execution_count": 106,
      "id": "845a8e8a",
      "metadata": {
        "colab": {
          "base_uri": "https://localhost:8080/"
        },
        "id": "845a8e8a",
        "outputId": "e855ba92-a655-4a67-dc6b-80b6b9dc4fbc"
      },
      "outputs": [
        {
          "output_type": "execute_result",
          "data": {
            "text/plain": [
              "0"
            ]
          },
          "metadata": {},
          "execution_count": 106
        }
      ],
      "source": [
        "df.duplicated().sum()"
      ]
    },
    {
      "cell_type": "markdown",
      "id": "2d654eef",
      "metadata": {
        "id": "2d654eef"
      },
      "source": [
        "No duplicate values"
      ]
    },
    {
      "cell_type": "markdown",
      "id": "695d751b",
      "metadata": {
        "id": "695d751b"
      },
      "source": [
        "---"
      ]
    },
    {
      "cell_type": "markdown",
      "source": [
        "## Text Preprocessing"
      ],
      "metadata": {
        "id": "wAA7D0oAW2_z"
      },
      "id": "wAA7D0oAW2_z"
    },
    {
      "cell_type": "code",
      "source": [
        "# lemmatizer\n",
        "wn = WordNetLemmatizer()\n",
        "# Remove stopwords\n",
        "stopwords = nltk.corpus.stopwords.words('english')\n",
        "print(f'There are {len(stopwords)} default stopwords.')\n",
        "\n",
        "# 'no' is removed as a stopwords to retain the original meaning of 'no last statement'\n",
        "not_stopwords = {'no'}\n",
        "final_stopwords = set([word for word in stopwords if word not in not_stopwords])\n",
        "print(f'There are {len(final_stopwords)} stopwords after removal.')"
      ],
      "metadata": {
        "colab": {
          "base_uri": "https://localhost:8080/"
        },
        "id": "gFV0heQsR8Lu",
        "outputId": "190b959b-7c5e-4fae-bfb5-b19f10004cdb"
      },
      "id": "gFV0heQsR8Lu",
      "execution_count": 107,
      "outputs": [
        {
          "output_type": "stream",
          "name": "stdout",
          "text": [
            "There are 179 default stopwords.\n",
            "There are 178 stopwords after removal.\n"
          ]
        }
      ]
    },
    {
      "cell_type": "code",
      "source": [
        "# Remove stopwords\n",
        "df['last_message_without_stopwords'] = df['last_message'].apply(lambda x: ' '.join([w for w in x.split() if w.lower() not in final_stopwords]))\n",
        "# Lemmatization\n",
        "df['last_message_lemmatized'] = df['last_message_without_stopwords'].apply(lambda x: ' '.join([wn.lemmatize(w) for w in x.split() if w not in stopwords]))\n",
        "# Take a look at the data\n",
        "df = df[['last_message','last_message_without_stopwords','last_message_lemmatized']]\n",
        "df.head()"
      ],
      "metadata": {
        "colab": {
          "base_uri": "https://localhost:8080/",
          "height": 204
        },
        "id": "Lryh-3J9SZPB",
        "outputId": "b39d9f21-0d00-4a81-eeb5-189e48103c62"
      },
      "id": "Lryh-3J9SZPB",
      "execution_count": 108,
      "outputs": [
        {
          "output_type": "execute_result",
          "data": {
            "text/plain": [
              "                                        last_message  \\\n",
              "0              No last statement given.                \n",
              "1  I want to take this moment to be shared with e...   \n",
              "2  Yes, I just want to  thank (pause) I don’t wan...   \n",
              "3  I just want to say to  the family of Pablo Cas...   \n",
              "4  I would like to thank my  Jesus Christ my Lord...   \n",
              "\n",
              "                      last_message_without_stopwords  \\\n",
              "0                           No last statement given.   \n",
              "1  want take moment shared everyone, give God glo...   \n",
              "2  Yes, want thank (pause) don’t want leave baby,...   \n",
              "3  want say family Pablo Castro, appreciate every...   \n",
              "4  would like thank Jesus Christ Lord Savior. wou...   \n",
              "\n",
              "                             last_message_lemmatized  \n",
              "0                           No last statement given.  \n",
              "1  want take moment shared everyone, give God glo...  \n",
              "2  Yes, want thank (pause) don’t want leave baby,...  \n",
              "3  want say family Pablo Castro, appreciate every...  \n",
              "4  would like thank Jesus Christ Lord Savior. wou...  "
            ],
            "text/html": [
              "\n",
              "  <div id=\"df-16d55007-c6b8-4681-ad98-2cf0ef8df1a5\">\n",
              "    <div class=\"colab-df-container\">\n",
              "      <div>\n",
              "<style scoped>\n",
              "    .dataframe tbody tr th:only-of-type {\n",
              "        vertical-align: middle;\n",
              "    }\n",
              "\n",
              "    .dataframe tbody tr th {\n",
              "        vertical-align: top;\n",
              "    }\n",
              "\n",
              "    .dataframe thead th {\n",
              "        text-align: right;\n",
              "    }\n",
              "</style>\n",
              "<table border=\"1\" class=\"dataframe\">\n",
              "  <thead>\n",
              "    <tr style=\"text-align: right;\">\n",
              "      <th></th>\n",
              "      <th>last_message</th>\n",
              "      <th>last_message_without_stopwords</th>\n",
              "      <th>last_message_lemmatized</th>\n",
              "    </tr>\n",
              "  </thead>\n",
              "  <tbody>\n",
              "    <tr>\n",
              "      <th>0</th>\n",
              "      <td>No last statement given.</td>\n",
              "      <td>No last statement given.</td>\n",
              "      <td>No last statement given.</td>\n",
              "    </tr>\n",
              "    <tr>\n",
              "      <th>1</th>\n",
              "      <td>I want to take this moment to be shared with e...</td>\n",
              "      <td>want take moment shared everyone, give God glo...</td>\n",
              "      <td>want take moment shared everyone, give God glo...</td>\n",
              "    </tr>\n",
              "    <tr>\n",
              "      <th>2</th>\n",
              "      <td>Yes, I just want to  thank (pause) I don’t wan...</td>\n",
              "      <td>Yes, want thank (pause) don’t want leave baby,...</td>\n",
              "      <td>Yes, want thank (pause) don’t want leave baby,...</td>\n",
              "    </tr>\n",
              "    <tr>\n",
              "      <th>3</th>\n",
              "      <td>I just want to say to  the family of Pablo Cas...</td>\n",
              "      <td>want say family Pablo Castro, appreciate every...</td>\n",
              "      <td>want say family Pablo Castro, appreciate every...</td>\n",
              "    </tr>\n",
              "    <tr>\n",
              "      <th>4</th>\n",
              "      <td>I would like to thank my  Jesus Christ my Lord...</td>\n",
              "      <td>would like thank Jesus Christ Lord Savior. wou...</td>\n",
              "      <td>would like thank Jesus Christ Lord Savior. wou...</td>\n",
              "    </tr>\n",
              "  </tbody>\n",
              "</table>\n",
              "</div>\n",
              "      <button class=\"colab-df-convert\" onclick=\"convertToInteractive('df-16d55007-c6b8-4681-ad98-2cf0ef8df1a5')\"\n",
              "              title=\"Convert this dataframe to an interactive table.\"\n",
              "              style=\"display:none;\">\n",
              "        \n",
              "  <svg xmlns=\"http://www.w3.org/2000/svg\" height=\"24px\"viewBox=\"0 0 24 24\"\n",
              "       width=\"24px\">\n",
              "    <path d=\"M0 0h24v24H0V0z\" fill=\"none\"/>\n",
              "    <path d=\"M18.56 5.44l.94 2.06.94-2.06 2.06-.94-2.06-.94-.94-2.06-.94 2.06-2.06.94zm-11 1L8.5 8.5l.94-2.06 2.06-.94-2.06-.94L8.5 2.5l-.94 2.06-2.06.94zm10 10l.94 2.06.94-2.06 2.06-.94-2.06-.94-.94-2.06-.94 2.06-2.06.94z\"/><path d=\"M17.41 7.96l-1.37-1.37c-.4-.4-.92-.59-1.43-.59-.52 0-1.04.2-1.43.59L10.3 9.45l-7.72 7.72c-.78.78-.78 2.05 0 2.83L4 21.41c.39.39.9.59 1.41.59.51 0 1.02-.2 1.41-.59l7.78-7.78 2.81-2.81c.8-.78.8-2.07 0-2.86zM5.41 20L4 18.59l7.72-7.72 1.47 1.35L5.41 20z\"/>\n",
              "  </svg>\n",
              "      </button>\n",
              "      \n",
              "  <style>\n",
              "    .colab-df-container {\n",
              "      display:flex;\n",
              "      flex-wrap:wrap;\n",
              "      gap: 12px;\n",
              "    }\n",
              "\n",
              "    .colab-df-convert {\n",
              "      background-color: #E8F0FE;\n",
              "      border: none;\n",
              "      border-radius: 50%;\n",
              "      cursor: pointer;\n",
              "      display: none;\n",
              "      fill: #1967D2;\n",
              "      height: 32px;\n",
              "      padding: 0 0 0 0;\n",
              "      width: 32px;\n",
              "    }\n",
              "\n",
              "    .colab-df-convert:hover {\n",
              "      background-color: #E2EBFA;\n",
              "      box-shadow: 0px 1px 2px rgba(60, 64, 67, 0.3), 0px 1px 3px 1px rgba(60, 64, 67, 0.15);\n",
              "      fill: #174EA6;\n",
              "    }\n",
              "\n",
              "    [theme=dark] .colab-df-convert {\n",
              "      background-color: #3B4455;\n",
              "      fill: #D2E3FC;\n",
              "    }\n",
              "\n",
              "    [theme=dark] .colab-df-convert:hover {\n",
              "      background-color: #434B5C;\n",
              "      box-shadow: 0px 1px 3px 1px rgba(0, 0, 0, 0.15);\n",
              "      filter: drop-shadow(0px 1px 2px rgba(0, 0, 0, 0.3));\n",
              "      fill: #FFFFFF;\n",
              "    }\n",
              "  </style>\n",
              "\n",
              "      <script>\n",
              "        const buttonEl =\n",
              "          document.querySelector('#df-16d55007-c6b8-4681-ad98-2cf0ef8df1a5 button.colab-df-convert');\n",
              "        buttonEl.style.display =\n",
              "          google.colab.kernel.accessAllowed ? 'block' : 'none';\n",
              "\n",
              "        async function convertToInteractive(key) {\n",
              "          const element = document.querySelector('#df-16d55007-c6b8-4681-ad98-2cf0ef8df1a5');\n",
              "          const dataTable =\n",
              "            await google.colab.kernel.invokeFunction('convertToInteractive',\n",
              "                                                     [key], {});\n",
              "          if (!dataTable) return;\n",
              "\n",
              "          const docLinkHtml = 'Like what you see? Visit the ' +\n",
              "            '<a target=\"_blank\" href=https://colab.research.google.com/notebooks/data_table.ipynb>data table notebook</a>'\n",
              "            + ' to learn more about interactive tables.';\n",
              "          element.innerHTML = '';\n",
              "          dataTable['output_type'] = 'display_data';\n",
              "          await google.colab.output.renderOutput(dataTable, element);\n",
              "          const docLink = document.createElement('div');\n",
              "          docLink.innerHTML = docLinkHtml;\n",
              "          element.appendChild(docLink);\n",
              "        }\n",
              "      </script>\n",
              "    </div>\n",
              "  </div>\n",
              "  "
            ]
          },
          "metadata": {},
          "execution_count": 108
        }
      ]
    },
    {
      "cell_type": "markdown",
      "source": [
        "---"
      ],
      "metadata": {
        "id": "QCIZD2gUWqqr"
      },
      "id": "QCIZD2gUWqqr"
    },
    {
      "cell_type": "markdown",
      "source": [
        "## Topic Modeling with BERTopic"
      ],
      "metadata": {
        "id": "Ifjn0SdAaCCb"
      },
      "id": "Ifjn0SdAaCCb"
    },
    {
      "cell_type": "markdown",
      "source": [
        "The aim of topic modeling is to discover the themes that run through a corpus by analyzing the words of the original texts."
      ],
      "metadata": {
        "id": "Y70FiuX3iN0o"
      },
      "id": "Y70FiuX3iN0o"
    },
    {
      "cell_type": "markdown",
      "source": [
        "### HDBSCAN"
      ],
      "metadata": {
        "id": "v1rQ7ShYbA_p"
      },
      "id": "v1rQ7ShYbA_p"
    },
    {
      "cell_type": "markdown",
      "source": [
        "With HDBSCAN, it does not require us to set any number of clusters."
      ],
      "metadata": {
        "id": "8W-TH0e3hF7D"
      },
      "id": "8W-TH0e3hF7D"
    },
    {
      "cell_type": "code",
      "source": [
        "hdbscan_model = HDBSCAN(min_cluster_size=15, metric='euclidean', cluster_selection_method='eom', prediction_data=True)\n",
        "topic_model = BERTopic(hdbscan_model=hdbscan_model,n_gram_range=(1, 3))\n",
        "topics, probs = topic_model.fit_transform(df['last_message_lemmatized'])"
      ],
      "metadata": {
        "id": "MrNY6zVJYKPW"
      },
      "id": "MrNY6zVJYKPW",
      "execution_count": 109,
      "outputs": []
    },
    {
      "cell_type": "code",
      "source": [
        "topic_model.get_topics()"
      ],
      "metadata": {
        "colab": {
          "base_uri": "https://localhost:8080/"
        },
        "id": "XrBJFrUwXrod",
        "outputId": "e8467693-54c1-4dea-f521-31a59c5c7267"
      },
      "id": "XrBJFrUwXrod",
      "execution_count": 110,
      "outputs": [
        {
          "output_type": "execute_result",
          "data": {
            "text/plain": [
              "{-1: [('love', 0.038629578773375396),\n",
              "  ('you', 0.023075620937316806),\n",
              "  ('know', 0.021277773034272217),\n",
              "  ('family', 0.017618682929228743),\n",
              "  ('thank', 0.015954393826922902),\n",
              "  ('yall', 0.015366491906310217),\n",
              "  ('me', 0.014660085155271067),\n",
              "  ('sorry', 0.014606957459921951),\n",
              "  ('love you', 0.013671850462598634),\n",
              "  ('im', 0.013593974504982183)],\n",
              " 0: [('sorry', 0.03211017328404651),\n",
              "  ('family', 0.030586753341662925),\n",
              "  ('love', 0.027785229022126275),\n",
              "  ('me', 0.023052380379648234),\n",
              "  ('forgive', 0.021794635149903877),\n",
              "  ('you', 0.021233029396584897),\n",
              "  ('know', 0.020579520558085807),\n",
              "  ('hope', 0.018172382968058225),\n",
              "  ('like', 0.017706886436030914),\n",
              "  ('would', 0.017330543187604568)],\n",
              " 1: [('love', 0.07787060476117681),\n",
              "  ('yall', 0.04131851505863636),\n",
              "  ('tell', 0.04038798795529721),\n",
              "  ('you', 0.03908874806337),\n",
              "  ('love you', 0.03858007555819863),\n",
              "  ('family', 0.03645468891175988),\n",
              "  ('strong', 0.028163975136233206),\n",
              "  ('want', 0.027026722003120174),\n",
              "  ('stay', 0.0269184840847446),\n",
              "  ('keep', 0.02498897227876569)],\n",
              " 2: [('people', 0.018924187492026123),\n",
              "  ('innocent', 0.015958253593354847),\n",
              "  ('must', 0.012952875107581138),\n",
              "  ('death', 0.012505799099700728),\n",
              "  ('me', 0.012399580881450043),\n",
              "  ('love', 0.012383264892474823),\n",
              "  ('im', 0.012208490152641423),\n",
              "  ('know', 0.012070662442536692),\n",
              "  ('justice', 0.011756060174244068),\n",
              "  ('get', 0.011475192776165629)],\n",
              " 3: [('thank', 0.04259044888674907),\n",
              "  ('would', 0.028831401624094182),\n",
              "  ('god', 0.027057199884997857),\n",
              "  ('love', 0.026743888012825765),\n",
              "  ('like', 0.02623557968844653),\n",
              "  ('holy', 0.025708215845129577),\n",
              "  ('would like', 0.024249306248788897),\n",
              "  ('jesus', 0.024150943979820007),\n",
              "  ('you', 0.02321835255834081),\n",
              "  ('like thank', 0.02305669817535034)]}"
            ]
          },
          "metadata": {},
          "execution_count": 110
        }
      ]
    },
    {
      "cell_type": "markdown",
      "source": [
        "After looking at the topics clustered by DBSCAN, I felt that it was not representative enough. Therefore, we will be exploring other clustering techniques."
      ],
      "metadata": {
        "id": "OIn-6w1-jiWO"
      },
      "id": "OIn-6w1-jiWO"
    },
    {
      "cell_type": "markdown",
      "source": [
        "The following two clustering techniques requires us to set a number of clusters."
      ],
      "metadata": {
        "id": "467kzv3jg0vP"
      },
      "id": "467kzv3jg0vP"
    },
    {
      "cell_type": "markdown",
      "source": [
        "### Agglomerative Clustering"
      ],
      "metadata": {
        "id": "-XumL_8mbDvR"
      },
      "id": "-XumL_8mbDvR"
    },
    {
      "cell_type": "code",
      "source": [
        "cluster_model = AgglomerativeClustering(n_clusters=5)\n",
        "topic_model = BERTopic(hdbscan_model=cluster_model,n_gram_range=(1, 3))\n",
        "topics, probs = topic_model.fit_transform(df['last_message_lemmatized'])"
      ],
      "metadata": {
        "id": "On7swPEbYPDV"
      },
      "id": "On7swPEbYPDV",
      "execution_count": 111,
      "outputs": []
    },
    {
      "cell_type": "code",
      "source": [
        "topic_model.get_topics()"
      ],
      "metadata": {
        "colab": {
          "base_uri": "https://localhost:8080/"
        },
        "id": "hiHa8_4waxQL",
        "outputId": "5dd9691f-2cdc-4a9d-ee2e-b04db4073e8b"
      },
      "id": "hiHa8_4waxQL",
      "execution_count": 112,
      "outputs": [
        {
          "output_type": "execute_result",
          "data": {
            "text/plain": [
              "{0: [('love', 0.03230039350230063),\n",
              "  ('sorry', 0.022197973863978284),\n",
              "  ('family', 0.022139812881507546),\n",
              "  ('you', 0.022090267263628092),\n",
              "  ('know', 0.021629298503248885),\n",
              "  ('me', 0.016985357712153103),\n",
              "  ('yall', 0.01560113163635324),\n",
              "  ('hope', 0.01456129722271946),\n",
              "  ('god', 0.014455460345766469),\n",
              "  ('forgive', 0.014211511626871004)],\n",
              " 1: [('love', 0.06074006385392828),\n",
              "  ('you', 0.030224755758443026),\n",
              "  ('family', 0.026194543133986305),\n",
              "  ('yall', 0.026112959334738856),\n",
              "  ('tell', 0.024889926799426833),\n",
              "  ('thank', 0.022454537584349815),\n",
              "  ('know', 0.022149500100979436),\n",
              "  ('want', 0.020561085408473286),\n",
              "  ('love you', 0.02054357459597393),\n",
              "  ('me', 0.017727407236679215)],\n",
              " 2: [('thank', 0.038388132515277514),\n",
              "  ('love', 0.03119486226247102),\n",
              "  ('would', 0.024021285644947397),\n",
              "  ('like', 0.023193061687592772),\n",
              "  ('you', 0.022916023643312626),\n",
              "  ('god', 0.021849451269425994),\n",
              "  ('would like', 0.020683485433044158),\n",
              "  ('lord', 0.018763502808593093),\n",
              "  ('jesus', 0.018592447911633836),\n",
              "  ('like thank', 0.01815346008542875)],\n",
              " 3: [('people', 0.018445712163280368),\n",
              "  ('innocent', 0.016526941358468918),\n",
              "  ('love', 0.014584787454305623),\n",
              "  ('im', 0.013342214751830487),\n",
              "  ('know', 0.012719427302569836),\n",
              "  ('must', 0.012625377233344047),\n",
              "  ('me', 0.01242179661947007),\n",
              "  ('death', 0.012189605004816653),\n",
              "  ('you', 0.011486605790551711),\n",
              "  ('justice', 0.01145882232670126)],\n",
              " 4: [('statement', 0.11731514750952518),\n",
              "  ('warden', 0.09338999648715438),\n",
              "  ('last statement', 0.09298883848864148),\n",
              "  ('no', 0.09155169472623165),\n",
              "  ('last', 0.08584081797473084),\n",
              "  ('declined', 0.07562309199540986),\n",
              "  ('declined make', 0.07562309199540986),\n",
              "  ('make last statement', 0.07562309199540986),\n",
              "  ('declined make last', 0.07562309199540986),\n",
              "  ('make last', 0.07562309199540986)]}"
            ]
          },
          "metadata": {},
          "execution_count": 112
        }
      ]
    },
    {
      "cell_type": "markdown",
      "source": [
        "### K-Means Clustering"
      ],
      "metadata": {
        "id": "MljaOhMSa833"
      },
      "id": "MljaOhMSa833"
    },
    {
      "cell_type": "code",
      "source": [
        "cluster_model = KMeans(n_clusters=5)\n",
        "topic_model = BERTopic(hdbscan_model=cluster_model,n_gram_range=(1, 3))\n",
        "topics, probs = topic_model.fit_transform(df['last_message_lemmatized'])"
      ],
      "metadata": {
        "id": "FKCXQJYSXGqm"
      },
      "id": "FKCXQJYSXGqm",
      "execution_count": 113,
      "outputs": []
    },
    {
      "cell_type": "code",
      "source": [
        "topic_model.get_topics()"
      ],
      "metadata": {
        "colab": {
          "base_uri": "https://localhost:8080/"
        },
        "id": "U9NcWl-cXLrw",
        "outputId": "f7aeda13-ec26-4122-b585-96e0eb8c1291"
      },
      "id": "U9NcWl-cXLrw",
      "execution_count": 114,
      "outputs": [
        {
          "output_type": "execute_result",
          "data": {
            "text/plain": [
              "{0: [('sorry', 0.029686038476237294),\n",
              "  ('love', 0.027171775428034776),\n",
              "  ('family', 0.026750074153545272),\n",
              "  ('forgive', 0.022326583404156417),\n",
              "  ('you', 0.021726625364630357),\n",
              "  ('know', 0.02147501565484286),\n",
              "  ('me', 0.021377381550354735),\n",
              "  ('would', 0.01849474567690138),\n",
              "  ('god', 0.01750228214857628),\n",
              "  ('like', 0.01741740721569078)],\n",
              " 1: [('love', 0.05806985013811193),\n",
              "  ('you', 0.030975981804198662),\n",
              "  ('yall', 0.026536955592677092),\n",
              "  ('know', 0.025701247557127146),\n",
              "  ('love you', 0.021905241428252224),\n",
              "  ('tell', 0.020555688675218852),\n",
              "  ('want', 0.020433744680752656),\n",
              "  ('family', 0.019781640445601226),\n",
              "  ('thank', 0.017260806488453472),\n",
              "  ('strong', 0.015088642207646738)],\n",
              " 2: [('love', 0.020012156505414873),\n",
              "  ('people', 0.015601614490863714),\n",
              "  ('you', 0.014077425012968166),\n",
              "  ('family', 0.013744665218593575),\n",
              "  ('know', 0.013684169263906958),\n",
              "  ('me', 0.012864237756897707),\n",
              "  ('im', 0.012754559501328528),\n",
              "  ('death', 0.011893806906705802),\n",
              "  ('say', 0.011694037043482527),\n",
              "  ('innocent', 0.011462030812869697)],\n",
              " 3: [('love', 0.034818324263636694),\n",
              "  ('thank', 0.03024503581722015),\n",
              "  ('you', 0.02137259511674988),\n",
              "  ('like', 0.019966090221474275),\n",
              "  ('god', 0.01937154401542128),\n",
              "  ('would', 0.01882509266707659),\n",
              "  ('lord', 0.017951135294038127),\n",
              "  ('father', 0.017730330219455193),\n",
              "  ('want', 0.017293874868521474),\n",
              "  ('would like', 0.016247096623998543)],\n",
              " 4: [('statement', 0.11731514750952518),\n",
              "  ('warden', 0.09338999648715438),\n",
              "  ('last statement', 0.09298883848864148),\n",
              "  ('no', 0.09155169472623165),\n",
              "  ('last', 0.08584081797473084),\n",
              "  ('declined make last', 0.07562309199540986),\n",
              "  ('declined make', 0.07562309199540986),\n",
              "  ('declined', 0.07562309199540986),\n",
              "  ('make last statement', 0.07562309199540986),\n",
              "  ('make last', 0.07562309199540986)]}"
            ]
          },
          "metadata": {},
          "execution_count": 114
        }
      ]
    },
    {
      "cell_type": "markdown",
      "source": [
        "By using clustering methods that requires us to set a certain number of clusters, we managed to get an additional cluster not seen with DBSCAN. This cluster is the cluster where inmates provided no last statement. \n",
        "\n",
        "Although the difference is minute, I felt that with K-means clustering, the clusters were a little more distinct from each other. "
      ],
      "metadata": {
        "id": "u-VUZ8tSj7bi"
      },
      "id": "u-VUZ8tSj7bi"
    },
    {
      "cell_type": "markdown",
      "source": [
        "Let us visualising the topics from K-means clustering."
      ],
      "metadata": {
        "id": "-AaoNErRhkSd"
      },
      "id": "-AaoNErRhkSd"
    },
    {
      "cell_type": "code",
      "source": [
        "# Visualize top topic keywords\n",
        "topic_model.visualize_barchart(top_n_topics=10)"
      ],
      "metadata": {
        "colab": {
          "base_uri": "https://localhost:8080/",
          "height": 517
        },
        "id": "Y2KTR3MefvOU",
        "outputId": "6179edd8-d8f7-47dd-ba9f-09e71b25dc0e"
      },
      "id": "Y2KTR3MefvOU",
      "execution_count": 115,
      "outputs": [
        {
          "output_type": "display_data",
          "data": {
            "text/html": [
              "<html>\n",
              "<head><meta charset=\"utf-8\" /></head>\n",
              "<body>\n",
              "    <div>            <script src=\"https://cdnjs.cloudflare.com/ajax/libs/mathjax/2.7.5/MathJax.js?config=TeX-AMS-MML_SVG\"></script><script type=\"text/javascript\">if (window.MathJax) {MathJax.Hub.Config({SVG: {font: \"STIX-Web\"}});}</script>                <script type=\"text/javascript\">window.PlotlyConfig = {MathJaxConfig: 'local'};</script>\n",
              "        <script src=\"https://cdn.plot.ly/plotly-2.8.3.min.js\"></script>                <div id=\"331243d9-4516-46a5-8238-f0520731e91c\" class=\"plotly-graph-div\" style=\"height:500px; width:1000px;\"></div>            <script type=\"text/javascript\">                                    window.PLOTLYENV=window.PLOTLYENV || {};                                    if (document.getElementById(\"331243d9-4516-46a5-8238-f0520731e91c\")) {                    Plotly.newPlot(                        \"331243d9-4516-46a5-8238-f0520731e91c\",                        [{\"marker\":{\"color\":\"#D55E00\"},\"orientation\":\"h\",\"x\":[0.021726625364630357,0.022326583404156417,0.026750074153545272,0.027171775428034776,0.029686038476237294],\"y\":[\"you  \",\"forgive  \",\"family  \",\"love  \",\"sorry  \"],\"type\":\"bar\",\"xaxis\":\"x\",\"yaxis\":\"y\"},{\"marker\":{\"color\":\"#0072B2\"},\"orientation\":\"h\",\"x\":[0.021905241428252224,0.025701247557127146,0.026536955592677092,0.030975981804198662,0.05806985013811193],\"y\":[\"love you  \",\"know  \",\"yall  \",\"you  \",\"love  \"],\"type\":\"bar\",\"xaxis\":\"x2\",\"yaxis\":\"y2\"},{\"marker\":{\"color\":\"#CC79A7\"},\"orientation\":\"h\",\"x\":[0.013684169263906958,0.013744665218593575,0.014077425012968166,0.015601614490863714,0.020012156505414873],\"y\":[\"know  \",\"family  \",\"you  \",\"people  \",\"love  \"],\"type\":\"bar\",\"xaxis\":\"x3\",\"yaxis\":\"y3\"},{\"marker\":{\"color\":\"#E69F00\"},\"orientation\":\"h\",\"x\":[0.01937154401542128,0.019966090221474275,0.02137259511674988,0.03024503581722015,0.034818324263636694],\"y\":[\"god  \",\"like  \",\"you  \",\"thank  \",\"love  \"],\"type\":\"bar\",\"xaxis\":\"x4\",\"yaxis\":\"y4\"},{\"marker\":{\"color\":\"#56B4E9\"},\"orientation\":\"h\",\"x\":[0.08584081797473084,0.09155169472623165,0.09298883848864148,0.09338999648715438,0.11731514750952518],\"y\":[\"last  \",\"no  \",\"last statement  \",\"warden  \",\"statement  \"],\"type\":\"bar\",\"xaxis\":\"x5\",\"yaxis\":\"y5\"}],                        {\"template\":{\"data\":{\"barpolar\":[{\"marker\":{\"line\":{\"color\":\"white\",\"width\":0.5},\"pattern\":{\"fillmode\":\"overlay\",\"size\":10,\"solidity\":0.2}},\"type\":\"barpolar\"}],\"bar\":[{\"error_x\":{\"color\":\"#2a3f5f\"},\"error_y\":{\"color\":\"#2a3f5f\"},\"marker\":{\"line\":{\"color\":\"white\",\"width\":0.5},\"pattern\":{\"fillmode\":\"overlay\",\"size\":10,\"solidity\":0.2}},\"type\":\"bar\"}],\"carpet\":[{\"aaxis\":{\"endlinecolor\":\"#2a3f5f\",\"gridcolor\":\"#C8D4E3\",\"linecolor\":\"#C8D4E3\",\"minorgridcolor\":\"#C8D4E3\",\"startlinecolor\":\"#2a3f5f\"},\"baxis\":{\"endlinecolor\":\"#2a3f5f\",\"gridcolor\":\"#C8D4E3\",\"linecolor\":\"#C8D4E3\",\"minorgridcolor\":\"#C8D4E3\",\"startlinecolor\":\"#2a3f5f\"},\"type\":\"carpet\"}],\"choropleth\":[{\"colorbar\":{\"outlinewidth\":0,\"ticks\":\"\"},\"type\":\"choropleth\"}],\"contourcarpet\":[{\"colorbar\":{\"outlinewidth\":0,\"ticks\":\"\"},\"type\":\"contourcarpet\"}],\"contour\":[{\"colorbar\":{\"outlinewidth\":0,\"ticks\":\"\"},\"colorscale\":[[0.0,\"#0d0887\"],[0.1111111111111111,\"#46039f\"],[0.2222222222222222,\"#7201a8\"],[0.3333333333333333,\"#9c179e\"],[0.4444444444444444,\"#bd3786\"],[0.5555555555555556,\"#d8576b\"],[0.6666666666666666,\"#ed7953\"],[0.7777777777777778,\"#fb9f3a\"],[0.8888888888888888,\"#fdca26\"],[1.0,\"#f0f921\"]],\"type\":\"contour\"}],\"heatmapgl\":[{\"colorbar\":{\"outlinewidth\":0,\"ticks\":\"\"},\"colorscale\":[[0.0,\"#0d0887\"],[0.1111111111111111,\"#46039f\"],[0.2222222222222222,\"#7201a8\"],[0.3333333333333333,\"#9c179e\"],[0.4444444444444444,\"#bd3786\"],[0.5555555555555556,\"#d8576b\"],[0.6666666666666666,\"#ed7953\"],[0.7777777777777778,\"#fb9f3a\"],[0.8888888888888888,\"#fdca26\"],[1.0,\"#f0f921\"]],\"type\":\"heatmapgl\"}],\"heatmap\":[{\"colorbar\":{\"outlinewidth\":0,\"ticks\":\"\"},\"colorscale\":[[0.0,\"#0d0887\"],[0.1111111111111111,\"#46039f\"],[0.2222222222222222,\"#7201a8\"],[0.3333333333333333,\"#9c179e\"],[0.4444444444444444,\"#bd3786\"],[0.5555555555555556,\"#d8576b\"],[0.6666666666666666,\"#ed7953\"],[0.7777777777777778,\"#fb9f3a\"],[0.8888888888888888,\"#fdca26\"],[1.0,\"#f0f921\"]],\"type\":\"heatmap\"}],\"histogram2dcontour\":[{\"colorbar\":{\"outlinewidth\":0,\"ticks\":\"\"},\"colorscale\":[[0.0,\"#0d0887\"],[0.1111111111111111,\"#46039f\"],[0.2222222222222222,\"#7201a8\"],[0.3333333333333333,\"#9c179e\"],[0.4444444444444444,\"#bd3786\"],[0.5555555555555556,\"#d8576b\"],[0.6666666666666666,\"#ed7953\"],[0.7777777777777778,\"#fb9f3a\"],[0.8888888888888888,\"#fdca26\"],[1.0,\"#f0f921\"]],\"type\":\"histogram2dcontour\"}],\"histogram2d\":[{\"colorbar\":{\"outlinewidth\":0,\"ticks\":\"\"},\"colorscale\":[[0.0,\"#0d0887\"],[0.1111111111111111,\"#46039f\"],[0.2222222222222222,\"#7201a8\"],[0.3333333333333333,\"#9c179e\"],[0.4444444444444444,\"#bd3786\"],[0.5555555555555556,\"#d8576b\"],[0.6666666666666666,\"#ed7953\"],[0.7777777777777778,\"#fb9f3a\"],[0.8888888888888888,\"#fdca26\"],[1.0,\"#f0f921\"]],\"type\":\"histogram2d\"}],\"histogram\":[{\"marker\":{\"pattern\":{\"fillmode\":\"overlay\",\"size\":10,\"solidity\":0.2}},\"type\":\"histogram\"}],\"mesh3d\":[{\"colorbar\":{\"outlinewidth\":0,\"ticks\":\"\"},\"type\":\"mesh3d\"}],\"parcoords\":[{\"line\":{\"colorbar\":{\"outlinewidth\":0,\"ticks\":\"\"}},\"type\":\"parcoords\"}],\"pie\":[{\"automargin\":true,\"type\":\"pie\"}],\"scatter3d\":[{\"line\":{\"colorbar\":{\"outlinewidth\":0,\"ticks\":\"\"}},\"marker\":{\"colorbar\":{\"outlinewidth\":0,\"ticks\":\"\"}},\"type\":\"scatter3d\"}],\"scattercarpet\":[{\"marker\":{\"colorbar\":{\"outlinewidth\":0,\"ticks\":\"\"}},\"type\":\"scattercarpet\"}],\"scattergeo\":[{\"marker\":{\"colorbar\":{\"outlinewidth\":0,\"ticks\":\"\"}},\"type\":\"scattergeo\"}],\"scattergl\":[{\"marker\":{\"colorbar\":{\"outlinewidth\":0,\"ticks\":\"\"}},\"type\":\"scattergl\"}],\"scattermapbox\":[{\"marker\":{\"colorbar\":{\"outlinewidth\":0,\"ticks\":\"\"}},\"type\":\"scattermapbox\"}],\"scatterpolargl\":[{\"marker\":{\"colorbar\":{\"outlinewidth\":0,\"ticks\":\"\"}},\"type\":\"scatterpolargl\"}],\"scatterpolar\":[{\"marker\":{\"colorbar\":{\"outlinewidth\":0,\"ticks\":\"\"}},\"type\":\"scatterpolar\"}],\"scatter\":[{\"marker\":{\"colorbar\":{\"outlinewidth\":0,\"ticks\":\"\"}},\"type\":\"scatter\"}],\"scatterternary\":[{\"marker\":{\"colorbar\":{\"outlinewidth\":0,\"ticks\":\"\"}},\"type\":\"scatterternary\"}],\"surface\":[{\"colorbar\":{\"outlinewidth\":0,\"ticks\":\"\"},\"colorscale\":[[0.0,\"#0d0887\"],[0.1111111111111111,\"#46039f\"],[0.2222222222222222,\"#7201a8\"],[0.3333333333333333,\"#9c179e\"],[0.4444444444444444,\"#bd3786\"],[0.5555555555555556,\"#d8576b\"],[0.6666666666666666,\"#ed7953\"],[0.7777777777777778,\"#fb9f3a\"],[0.8888888888888888,\"#fdca26\"],[1.0,\"#f0f921\"]],\"type\":\"surface\"}],\"table\":[{\"cells\":{\"fill\":{\"color\":\"#EBF0F8\"},\"line\":{\"color\":\"white\"}},\"header\":{\"fill\":{\"color\":\"#C8D4E3\"},\"line\":{\"color\":\"white\"}},\"type\":\"table\"}]},\"layout\":{\"annotationdefaults\":{\"arrowcolor\":\"#2a3f5f\",\"arrowhead\":0,\"arrowwidth\":1},\"autotypenumbers\":\"strict\",\"coloraxis\":{\"colorbar\":{\"outlinewidth\":0,\"ticks\":\"\"}},\"colorscale\":{\"diverging\":[[0,\"#8e0152\"],[0.1,\"#c51b7d\"],[0.2,\"#de77ae\"],[0.3,\"#f1b6da\"],[0.4,\"#fde0ef\"],[0.5,\"#f7f7f7\"],[0.6,\"#e6f5d0\"],[0.7,\"#b8e186\"],[0.8,\"#7fbc41\"],[0.9,\"#4d9221\"],[1,\"#276419\"]],\"sequential\":[[0.0,\"#0d0887\"],[0.1111111111111111,\"#46039f\"],[0.2222222222222222,\"#7201a8\"],[0.3333333333333333,\"#9c179e\"],[0.4444444444444444,\"#bd3786\"],[0.5555555555555556,\"#d8576b\"],[0.6666666666666666,\"#ed7953\"],[0.7777777777777778,\"#fb9f3a\"],[0.8888888888888888,\"#fdca26\"],[1.0,\"#f0f921\"]],\"sequentialminus\":[[0.0,\"#0d0887\"],[0.1111111111111111,\"#46039f\"],[0.2222222222222222,\"#7201a8\"],[0.3333333333333333,\"#9c179e\"],[0.4444444444444444,\"#bd3786\"],[0.5555555555555556,\"#d8576b\"],[0.6666666666666666,\"#ed7953\"],[0.7777777777777778,\"#fb9f3a\"],[0.8888888888888888,\"#fdca26\"],[1.0,\"#f0f921\"]]},\"colorway\":[\"#636efa\",\"#EF553B\",\"#00cc96\",\"#ab63fa\",\"#FFA15A\",\"#19d3f3\",\"#FF6692\",\"#B6E880\",\"#FF97FF\",\"#FECB52\"],\"font\":{\"color\":\"#2a3f5f\"},\"geo\":{\"bgcolor\":\"white\",\"lakecolor\":\"white\",\"landcolor\":\"white\",\"showlakes\":true,\"showland\":true,\"subunitcolor\":\"#C8D4E3\"},\"hoverlabel\":{\"align\":\"left\"},\"hovermode\":\"closest\",\"mapbox\":{\"style\":\"light\"},\"paper_bgcolor\":\"white\",\"plot_bgcolor\":\"white\",\"polar\":{\"angularaxis\":{\"gridcolor\":\"#EBF0F8\",\"linecolor\":\"#EBF0F8\",\"ticks\":\"\"},\"bgcolor\":\"white\",\"radialaxis\":{\"gridcolor\":\"#EBF0F8\",\"linecolor\":\"#EBF0F8\",\"ticks\":\"\"}},\"scene\":{\"xaxis\":{\"backgroundcolor\":\"white\",\"gridcolor\":\"#DFE8F3\",\"gridwidth\":2,\"linecolor\":\"#EBF0F8\",\"showbackground\":true,\"ticks\":\"\",\"zerolinecolor\":\"#EBF0F8\"},\"yaxis\":{\"backgroundcolor\":\"white\",\"gridcolor\":\"#DFE8F3\",\"gridwidth\":2,\"linecolor\":\"#EBF0F8\",\"showbackground\":true,\"ticks\":\"\",\"zerolinecolor\":\"#EBF0F8\"},\"zaxis\":{\"backgroundcolor\":\"white\",\"gridcolor\":\"#DFE8F3\",\"gridwidth\":2,\"linecolor\":\"#EBF0F8\",\"showbackground\":true,\"ticks\":\"\",\"zerolinecolor\":\"#EBF0F8\"}},\"shapedefaults\":{\"line\":{\"color\":\"#2a3f5f\"}},\"ternary\":{\"aaxis\":{\"gridcolor\":\"#DFE8F3\",\"linecolor\":\"#A2B1C6\",\"ticks\":\"\"},\"baxis\":{\"gridcolor\":\"#DFE8F3\",\"linecolor\":\"#A2B1C6\",\"ticks\":\"\"},\"bgcolor\":\"white\",\"caxis\":{\"gridcolor\":\"#DFE8F3\",\"linecolor\":\"#A2B1C6\",\"ticks\":\"\"}},\"title\":{\"x\":0.05},\"xaxis\":{\"automargin\":true,\"gridcolor\":\"#EBF0F8\",\"linecolor\":\"#EBF0F8\",\"ticks\":\"\",\"title\":{\"standoff\":15},\"zerolinecolor\":\"#EBF0F8\",\"zerolinewidth\":2},\"yaxis\":{\"automargin\":true,\"gridcolor\":\"#EBF0F8\",\"linecolor\":\"#EBF0F8\",\"ticks\":\"\",\"title\":{\"standoff\":15},\"zerolinecolor\":\"#EBF0F8\",\"zerolinewidth\":2}}},\"xaxis\":{\"anchor\":\"y\",\"domain\":[0.0,0.175],\"showgrid\":true},\"yaxis\":{\"anchor\":\"x\",\"domain\":[0.6000000000000001,1.0],\"showgrid\":true},\"xaxis2\":{\"anchor\":\"y2\",\"domain\":[0.275,0.45],\"showgrid\":true},\"yaxis2\":{\"anchor\":\"x2\",\"domain\":[0.6000000000000001,1.0],\"showgrid\":true},\"xaxis3\":{\"anchor\":\"y3\",\"domain\":[0.55,0.7250000000000001],\"showgrid\":true},\"yaxis3\":{\"anchor\":\"x3\",\"domain\":[0.6000000000000001,1.0],\"showgrid\":true},\"xaxis4\":{\"anchor\":\"y4\",\"domain\":[0.825,1.0],\"showgrid\":true},\"yaxis4\":{\"anchor\":\"x4\",\"domain\":[0.6000000000000001,1.0],\"showgrid\":true},\"xaxis5\":{\"anchor\":\"y5\",\"domain\":[0.0,0.175],\"showgrid\":true},\"yaxis5\":{\"anchor\":\"x5\",\"domain\":[0.0,0.4],\"showgrid\":true},\"xaxis6\":{\"anchor\":\"y6\",\"domain\":[0.275,0.45],\"showgrid\":true},\"yaxis6\":{\"anchor\":\"x6\",\"domain\":[0.0,0.4],\"showgrid\":true},\"xaxis7\":{\"anchor\":\"y7\",\"domain\":[0.55,0.7250000000000001],\"showgrid\":true},\"yaxis7\":{\"anchor\":\"x7\",\"domain\":[0.0,0.4],\"showgrid\":true},\"xaxis8\":{\"anchor\":\"y8\",\"domain\":[0.825,1.0],\"showgrid\":true},\"yaxis8\":{\"anchor\":\"x8\",\"domain\":[0.0,0.4],\"showgrid\":true},\"annotations\":[{\"font\":{\"size\":16},\"showarrow\":false,\"text\":\"Topic 0\",\"x\":0.0875,\"xanchor\":\"center\",\"xref\":\"paper\",\"y\":1.0,\"yanchor\":\"bottom\",\"yref\":\"paper\"},{\"font\":{\"size\":16},\"showarrow\":false,\"text\":\"Topic 1\",\"x\":0.36250000000000004,\"xanchor\":\"center\",\"xref\":\"paper\",\"y\":1.0,\"yanchor\":\"bottom\",\"yref\":\"paper\"},{\"font\":{\"size\":16},\"showarrow\":false,\"text\":\"Topic 2\",\"x\":0.6375000000000001,\"xanchor\":\"center\",\"xref\":\"paper\",\"y\":1.0,\"yanchor\":\"bottom\",\"yref\":\"paper\"},{\"font\":{\"size\":16},\"showarrow\":false,\"text\":\"Topic 3\",\"x\":0.9125,\"xanchor\":\"center\",\"xref\":\"paper\",\"y\":1.0,\"yanchor\":\"bottom\",\"yref\":\"paper\"},{\"font\":{\"size\":16},\"showarrow\":false,\"text\":\"Topic 4\",\"x\":0.0875,\"xanchor\":\"center\",\"xref\":\"paper\",\"y\":0.4,\"yanchor\":\"bottom\",\"yref\":\"paper\"}],\"title\":{\"font\":{\"size\":22,\"color\":\"Black\"},\"text\":\"<b>Topic Word Scores\",\"x\":0.5,\"xanchor\":\"center\",\"yanchor\":\"top\"},\"hoverlabel\":{\"font\":{\"size\":16,\"family\":\"Rockwell\"},\"bgcolor\":\"white\"},\"showlegend\":false,\"width\":1000,\"height\":500},                        {\"responsive\": true}                    ).then(function(){\n",
              "                            \n",
              "var gd = document.getElementById('331243d9-4516-46a5-8238-f0520731e91c');\n",
              "var x = new MutationObserver(function (mutations, observer) {{\n",
              "        var display = window.getComputedStyle(gd).display;\n",
              "        if (!display || display === 'none') {{\n",
              "            console.log([gd, 'removed!']);\n",
              "            Plotly.purge(gd);\n",
              "            observer.disconnect();\n",
              "        }}\n",
              "}});\n",
              "\n",
              "// Listen for the removal of the full notebook cells\n",
              "var notebookContainer = gd.closest('#notebook-container');\n",
              "if (notebookContainer) {{\n",
              "    x.observe(notebookContainer, {childList: true});\n",
              "}}\n",
              "\n",
              "// Listen for the clearing of the current output cell\n",
              "var outputEl = gd.closest('.output');\n",
              "if (outputEl) {{\n",
              "    x.observe(outputEl, {childList: true});\n",
              "}}\n",
              "\n",
              "                        })                };                            </script>        </div>\n",
              "</body>\n",
              "</html>"
            ]
          },
          "metadata": {}
        }
      ]
    },
    {
      "cell_type": "markdown",
      "source": [
        "To better understand the topics, we will be looking at what kind of statement makes up the clusters."
      ],
      "metadata": {
        "id": "aGrz0J9zlhlP"
      },
      "id": "aGrz0J9zlhlP"
    },
    {
      "cell_type": "code",
      "source": [
        "topic_model.get_representative_docs(0)[0]"
      ],
      "metadata": {
        "colab": {
          "base_uri": "https://localhost:8080/",
          "height": 103
        },
        "id": "M_k2I556l7Jj",
        "outputId": "c72b9557-4337-4568-c8f8-125bd4e33fdf"
      },
      "id": "M_k2I556l7Jj",
      "execution_count": 123,
      "outputs": [
        {
          "output_type": "execute_result",
          "data": {
            "text/plain": [
              "\"Yes do, know way make pain suffering gave you. sorry. punishment nothing compared pain sorrow caused. hope someday find peace. strong enough ask forgiveness worth. realize I've done pain I've given. Please Lord forgive me. done horrible things. ask Lord please forgive me. gained nothing, brought sorrow pain wonderful people. sorry. sorry. Sanchez family showed love. Hawkings' family, sorry. know affected long. Please forgive me. Irene, want thank thank husband Jack. I'll waiting you. sorry. family ask forgiveness. Father God ask forgiveness. ask forgiveness Lord. ready go Lord. Thank you. ready go. Jesus Savior none like you. day want praise, let every breath. Shout Lord let u sing.\""
            ],
            "application/vnd.google.colaboratory.intrinsic+json": {
              "type": "string"
            }
          },
          "metadata": {},
          "execution_count": 123
        }
      ]
    },
    {
      "cell_type": "markdown",
      "source": [
        "We can see that Topic 0 is influenced by asking for forgiveness."
      ],
      "metadata": {
        "id": "f5sImiB2mk2F"
      },
      "id": "f5sImiB2mk2F"
    },
    {
      "cell_type": "code",
      "source": [
        "topic_model.get_representative_docs(1)[0]"
      ],
      "metadata": {
        "colab": {
          "base_uri": "https://localhost:8080/",
          "height": 103
        },
        "id": "_QMfmeT_mB-M",
        "outputId": "433e550f-0ea7-4367-8f25-66503146c631"
      },
      "id": "_QMfmeT_mB-M",
      "execution_count": 124,
      "outputs": [
        {
          "output_type": "execute_result",
          "data": {
            "text/plain": [
              "\"Yes, do, Victor, Gary Hey bros, know hear me, can't hear you. right thinking grew up... know grew house. need love like use to. Deena, Bob raised house, need take care love like use to. Adela love you, Mijta, need take care mom. need love like use to. Juana, kindness showed me. Taking time show friendship did. never repay that. Take OK; see good. OK. Thank showing loved again. showed love sometimes deserve. love that. need take care yourself. going OK; know I'll be. love you, love you, love you, love , love you, love bro. Take care yall. May God mercy soul. thought going harder this. ready go. going sleep now. feel it, affecting now.\""
            ],
            "application/vnd.google.colaboratory.intrinsic+json": {
              "type": "string"
            }
          },
          "metadata": {},
          "execution_count": 124
        }
      ]
    },
    {
      "cell_type": "markdown",
      "source": [
        "We can see that Topic 1 is influenced by love, family and acceptance."
      ],
      "metadata": {
        "id": "N0M6I1pXmo3E"
      },
      "id": "N0M6I1pXmo3E"
    },
    {
      "cell_type": "code",
      "source": [
        "topic_model.get_representative_docs(2)[1]"
      ],
      "metadata": {
        "colab": {
          "base_uri": "https://localhost:8080/",
          "height": 137
        },
        "id": "JDeSIaE_mEoJ",
        "outputId": "02aa9954-703d-492e-b969-38177ae5a57c"
      },
      "id": "JDeSIaE_mEoJ",
      "execution_count": 133,
      "outputs": [
        {
          "output_type": "execute_result",
          "data": {
            "text/plain": [
              "\"want start acknowledging love I've family. No man world better family me. best parent world. best brother sister world. I've wonderful life man could ever had. I've never proud anybody daughter son. I've got complaint regret that. love everyone always loved life. I've never doubt that. Couple matter want talk since one time people listen say. Unites States gotten zero respect human life. death symptom bigger illness. point government got wake stop thing destroy country killing innocent children. ongoing embargo sanction place like Iran Iraq, Cuba places. anything change world, harming innocent children. That's got stop point. Perhaps important lot way environment even devastating long keep going direction we're going end result matter treat people everybody planet way out. got wake stop that. Ah, one way world truth ever going get out, people ever going know what's happening long support free press there. see press struggling stay existent free institution One truly free institution press Texas. People like Texas Observer want thank job they've done keeping everybody else informed. hope people support them, listen them. Without it, thing like going happen nobody even know. love you. always always will. would like address State Texas specially Joe Price, District Attorney put here. want remind Mr. Price mistake made Gene Hawthorn's trial said Gene Hawthorn telling truth trial. Mr. Price one-eyed hunting dog. fact one-eyed hunting dog, fact Gene Hawthorn lied trial. Everybody knew it. I'm dying tonight based testimony, parties, me, man gave testimony, prosecutor used knew lie. hoping somebody call floor recent comment he's made newspaper. bad enough prosecutor take truth spin try re-doctor it. actually make fact present public trial's evidence. go beyond fail, that's completely unforgivable hope somebody make Mr. Price account explain tennis shoe talking put here. I'm still completely lost I'm hoping somebody go back verify trial record make accountable lying public press way. That's really say except love family. nobody, nobody got better family me. love booger bear. love doodle bug, too. let ever forget me. I'll never forget them. I'll see side, okay. Bye bye Debbie. Bye bro, bye booger bear. Father Mike, Father Walsh, love all. That's all, sir.\""
            ],
            "application/vnd.google.colaboratory.intrinsic+json": {
              "type": "string"
            }
          },
          "metadata": {},
          "execution_count": 133
        }
      ]
    },
    {
      "cell_type": "markdown",
      "source": [
        "We can see that Topic 2 is influenced by love and family as well as some frustrations."
      ],
      "metadata": {
        "id": "Hr43dnzynO_e"
      },
      "id": "Hr43dnzynO_e"
    },
    {
      "cell_type": "code",
      "source": [
        "topic_model.get_representative_docs(3)[0]"
      ],
      "metadata": {
        "colab": {
          "base_uri": "https://localhost:8080/",
          "height": 103
        },
        "id": "rxCU2pbumGUR",
        "outputId": "2de10f7b-ee18-4801-9b86-dc23ba205ec9"
      },
      "id": "rxCU2pbumGUR",
      "execution_count": 126,
      "outputs": [
        {
          "output_type": "execute_result",
          "data": {
            "text/plain": [
              "\"First all, would like ask Sister Teresa send Connie yellow rose. want thank Lord, Jesus Christ, year spent death row. blessing life. opportunity serve Jesus Christ thankful opportunity. would like thank Father Walsh become Franciscan, people world become friends. wonderful experience life. would like thank Chaplain Lopez, witness giving support love. would like thank Nuns England support. want tell son love them; always loved - greatest gift God. want tell witnesses, Tannie, Rebecca, Al, Leo, Dr. Blackwell love thankful support. want ask Paulette forgiveness heart. One day, hope will. tragedy family family. sorry. special angel, love you. love you, Connie. May God pas Kindom's shore softly gently. ready.\""
            ],
            "application/vnd.google.colaboratory.intrinsic+json": {
              "type": "string"
            }
          },
          "metadata": {},
          "execution_count": 126
        }
      ]
    },
    {
      "cell_type": "markdown",
      "source": [
        "We can see that Topic 3 is influenced by religion."
      ],
      "metadata": {
        "id": "qrjMnQ2Bnbzq"
      },
      "id": "qrjMnQ2Bnbzq"
    },
    {
      "cell_type": "code",
      "source": [
        "topic_model.get_representative_docs(4)[0]"
      ],
      "metadata": {
        "colab": {
          "base_uri": "https://localhost:8080/",
          "height": 35
        },
        "id": "2k8MzedKmJSN",
        "outputId": "c443748d-3b45-4edf-a827-50ec3a3502fb"
      },
      "id": "2k8MzedKmJSN",
      "execution_count": 127,
      "outputs": [
        {
          "output_type": "execute_result",
          "data": {
            "text/plain": [
              "'inmate declined make last statement.'"
            ],
            "application/vnd.google.colaboratory.intrinsic+json": {
              "type": "string"
            }
          },
          "metadata": {},
          "execution_count": 127
        }
      ]
    },
    {
      "cell_type": "markdown",
      "source": [
        "We can see that Topic 4 are inmates who did not give any last statement."
      ],
      "metadata": {
        "id": "cKMuQeNNnopG"
      },
      "id": "cKMuQeNNnopG"
    },
    {
      "cell_type": "code",
      "source": [
        "# Visualize intertopic distance\n",
        "topic_model.visualize_topics()"
      ],
      "metadata": {
        "colab": {
          "base_uri": "https://localhost:8080/",
          "height": 667
        },
        "id": "cEm99XMxay6R",
        "outputId": "b4eb80b9-c9f1-43d9-ffbd-4c68efd91b16"
      },
      "id": "cEm99XMxay6R",
      "execution_count": 116,
      "outputs": [
        {
          "output_type": "display_data",
          "data": {
            "text/html": [
              "<html>\n",
              "<head><meta charset=\"utf-8\" /></head>\n",
              "<body>\n",
              "    <div>            <script src=\"https://cdnjs.cloudflare.com/ajax/libs/mathjax/2.7.5/MathJax.js?config=TeX-AMS-MML_SVG\"></script><script type=\"text/javascript\">if (window.MathJax) {MathJax.Hub.Config({SVG: {font: \"STIX-Web\"}});}</script>                <script type=\"text/javascript\">window.PlotlyConfig = {MathJaxConfig: 'local'};</script>\n",
              "        <script src=\"https://cdn.plot.ly/plotly-2.8.3.min.js\"></script>                <div id=\"b8120fb0-4856-4ca5-95c6-383047c0e9ad\" class=\"plotly-graph-div\" style=\"height:650px; width:650px;\"></div>            <script type=\"text/javascript\">                                    window.PLOTLYENV=window.PLOTLYENV || {};                                    if (document.getElementById(\"b8120fb0-4856-4ca5-95c6-383047c0e9ad\")) {                    Plotly.newPlot(                        \"b8120fb0-4856-4ca5-95c6-383047c0e9ad\",                        [{\"customdata\":[[0,\"sorry | love | family | forgive | you\",150],[1,\"love | you | yall | know | love you\",132],[2,\"love | people | you | family | know\",80],[3,\"love | thank | you | like | god\",78],[4,\"statement | warden | last statement | no | last\",35]],\"hovertemplate\":\"<b>Topic %{customdata[0]}</b><br>Words: %{customdata[1]}<br>Size: %{customdata[2]}\",\"legendgroup\":\"\",\"marker\":{\"color\":\"#B0BEC5\",\"size\":[150,132,80,78,35],\"sizemode\":\"area\",\"sizeref\":0.09375,\"symbol\":\"circle\",\"line\":{\"color\":\"DarkSlateGrey\",\"width\":2}},\"mode\":\"markers\",\"name\":\"\",\"orientation\":\"v\",\"showlegend\":false,\"x\":[19.84889030456543,17.697086334228516,20.05864715576172,19.200883865356445,17.242900848388672],\"xaxis\":\"x\",\"y\":[1.7573872804641724,5.051303386688232,2.5530428886413574,2.158079147338867,5.635078430175781],\"yaxis\":\"y\",\"type\":\"scatter\"}],                        {\"template\":{\"data\":{\"barpolar\":[{\"marker\":{\"line\":{\"color\":\"white\",\"width\":0.5},\"pattern\":{\"fillmode\":\"overlay\",\"size\":10,\"solidity\":0.2}},\"type\":\"barpolar\"}],\"bar\":[{\"error_x\":{\"color\":\"rgb(36,36,36)\"},\"error_y\":{\"color\":\"rgb(36,36,36)\"},\"marker\":{\"line\":{\"color\":\"white\",\"width\":0.5},\"pattern\":{\"fillmode\":\"overlay\",\"size\":10,\"solidity\":0.2}},\"type\":\"bar\"}],\"carpet\":[{\"aaxis\":{\"endlinecolor\":\"rgb(36,36,36)\",\"gridcolor\":\"white\",\"linecolor\":\"white\",\"minorgridcolor\":\"white\",\"startlinecolor\":\"rgb(36,36,36)\"},\"baxis\":{\"endlinecolor\":\"rgb(36,36,36)\",\"gridcolor\":\"white\",\"linecolor\":\"white\",\"minorgridcolor\":\"white\",\"startlinecolor\":\"rgb(36,36,36)\"},\"type\":\"carpet\"}],\"choropleth\":[{\"colorbar\":{\"outlinewidth\":1,\"tickcolor\":\"rgb(36,36,36)\",\"ticks\":\"outside\"},\"type\":\"choropleth\"}],\"contourcarpet\":[{\"colorbar\":{\"outlinewidth\":1,\"tickcolor\":\"rgb(36,36,36)\",\"ticks\":\"outside\"},\"type\":\"contourcarpet\"}],\"contour\":[{\"colorbar\":{\"outlinewidth\":1,\"tickcolor\":\"rgb(36,36,36)\",\"ticks\":\"outside\"},\"colorscale\":[[0.0,\"#440154\"],[0.1111111111111111,\"#482878\"],[0.2222222222222222,\"#3e4989\"],[0.3333333333333333,\"#31688e\"],[0.4444444444444444,\"#26828e\"],[0.5555555555555556,\"#1f9e89\"],[0.6666666666666666,\"#35b779\"],[0.7777777777777778,\"#6ece58\"],[0.8888888888888888,\"#b5de2b\"],[1.0,\"#fde725\"]],\"type\":\"contour\"}],\"heatmapgl\":[{\"colorbar\":{\"outlinewidth\":1,\"tickcolor\":\"rgb(36,36,36)\",\"ticks\":\"outside\"},\"colorscale\":[[0.0,\"#440154\"],[0.1111111111111111,\"#482878\"],[0.2222222222222222,\"#3e4989\"],[0.3333333333333333,\"#31688e\"],[0.4444444444444444,\"#26828e\"],[0.5555555555555556,\"#1f9e89\"],[0.6666666666666666,\"#35b779\"],[0.7777777777777778,\"#6ece58\"],[0.8888888888888888,\"#b5de2b\"],[1.0,\"#fde725\"]],\"type\":\"heatmapgl\"}],\"heatmap\":[{\"colorbar\":{\"outlinewidth\":1,\"tickcolor\":\"rgb(36,36,36)\",\"ticks\":\"outside\"},\"colorscale\":[[0.0,\"#440154\"],[0.1111111111111111,\"#482878\"],[0.2222222222222222,\"#3e4989\"],[0.3333333333333333,\"#31688e\"],[0.4444444444444444,\"#26828e\"],[0.5555555555555556,\"#1f9e89\"],[0.6666666666666666,\"#35b779\"],[0.7777777777777778,\"#6ece58\"],[0.8888888888888888,\"#b5de2b\"],[1.0,\"#fde725\"]],\"type\":\"heatmap\"}],\"histogram2dcontour\":[{\"colorbar\":{\"outlinewidth\":1,\"tickcolor\":\"rgb(36,36,36)\",\"ticks\":\"outside\"},\"colorscale\":[[0.0,\"#440154\"],[0.1111111111111111,\"#482878\"],[0.2222222222222222,\"#3e4989\"],[0.3333333333333333,\"#31688e\"],[0.4444444444444444,\"#26828e\"],[0.5555555555555556,\"#1f9e89\"],[0.6666666666666666,\"#35b779\"],[0.7777777777777778,\"#6ece58\"],[0.8888888888888888,\"#b5de2b\"],[1.0,\"#fde725\"]],\"type\":\"histogram2dcontour\"}],\"histogram2d\":[{\"colorbar\":{\"outlinewidth\":1,\"tickcolor\":\"rgb(36,36,36)\",\"ticks\":\"outside\"},\"colorscale\":[[0.0,\"#440154\"],[0.1111111111111111,\"#482878\"],[0.2222222222222222,\"#3e4989\"],[0.3333333333333333,\"#31688e\"],[0.4444444444444444,\"#26828e\"],[0.5555555555555556,\"#1f9e89\"],[0.6666666666666666,\"#35b779\"],[0.7777777777777778,\"#6ece58\"],[0.8888888888888888,\"#b5de2b\"],[1.0,\"#fde725\"]],\"type\":\"histogram2d\"}],\"histogram\":[{\"marker\":{\"line\":{\"color\":\"white\",\"width\":0.6}},\"type\":\"histogram\"}],\"mesh3d\":[{\"colorbar\":{\"outlinewidth\":1,\"tickcolor\":\"rgb(36,36,36)\",\"ticks\":\"outside\"},\"type\":\"mesh3d\"}],\"parcoords\":[{\"line\":{\"colorbar\":{\"outlinewidth\":1,\"tickcolor\":\"rgb(36,36,36)\",\"ticks\":\"outside\"}},\"type\":\"parcoords\"}],\"pie\":[{\"automargin\":true,\"type\":\"pie\"}],\"scatter3d\":[{\"line\":{\"colorbar\":{\"outlinewidth\":1,\"tickcolor\":\"rgb(36,36,36)\",\"ticks\":\"outside\"}},\"marker\":{\"colorbar\":{\"outlinewidth\":1,\"tickcolor\":\"rgb(36,36,36)\",\"ticks\":\"outside\"}},\"type\":\"scatter3d\"}],\"scattercarpet\":[{\"marker\":{\"colorbar\":{\"outlinewidth\":1,\"tickcolor\":\"rgb(36,36,36)\",\"ticks\":\"outside\"}},\"type\":\"scattercarpet\"}],\"scattergeo\":[{\"marker\":{\"colorbar\":{\"outlinewidth\":1,\"tickcolor\":\"rgb(36,36,36)\",\"ticks\":\"outside\"}},\"type\":\"scattergeo\"}],\"scattergl\":[{\"marker\":{\"colorbar\":{\"outlinewidth\":1,\"tickcolor\":\"rgb(36,36,36)\",\"ticks\":\"outside\"}},\"type\":\"scattergl\"}],\"scattermapbox\":[{\"marker\":{\"colorbar\":{\"outlinewidth\":1,\"tickcolor\":\"rgb(36,36,36)\",\"ticks\":\"outside\"}},\"type\":\"scattermapbox\"}],\"scatterpolargl\":[{\"marker\":{\"colorbar\":{\"outlinewidth\":1,\"tickcolor\":\"rgb(36,36,36)\",\"ticks\":\"outside\"}},\"type\":\"scatterpolargl\"}],\"scatterpolar\":[{\"marker\":{\"colorbar\":{\"outlinewidth\":1,\"tickcolor\":\"rgb(36,36,36)\",\"ticks\":\"outside\"}},\"type\":\"scatterpolar\"}],\"scatter\":[{\"marker\":{\"colorbar\":{\"outlinewidth\":1,\"tickcolor\":\"rgb(36,36,36)\",\"ticks\":\"outside\"}},\"type\":\"scatter\"}],\"scatterternary\":[{\"marker\":{\"colorbar\":{\"outlinewidth\":1,\"tickcolor\":\"rgb(36,36,36)\",\"ticks\":\"outside\"}},\"type\":\"scatterternary\"}],\"surface\":[{\"colorbar\":{\"outlinewidth\":1,\"tickcolor\":\"rgb(36,36,36)\",\"ticks\":\"outside\"},\"colorscale\":[[0.0,\"#440154\"],[0.1111111111111111,\"#482878\"],[0.2222222222222222,\"#3e4989\"],[0.3333333333333333,\"#31688e\"],[0.4444444444444444,\"#26828e\"],[0.5555555555555556,\"#1f9e89\"],[0.6666666666666666,\"#35b779\"],[0.7777777777777778,\"#6ece58\"],[0.8888888888888888,\"#b5de2b\"],[1.0,\"#fde725\"]],\"type\":\"surface\"}],\"table\":[{\"cells\":{\"fill\":{\"color\":\"rgb(237,237,237)\"},\"line\":{\"color\":\"white\"}},\"header\":{\"fill\":{\"color\":\"rgb(217,217,217)\"},\"line\":{\"color\":\"white\"}},\"type\":\"table\"}]},\"layout\":{\"annotationdefaults\":{\"arrowhead\":0,\"arrowwidth\":1},\"autotypenumbers\":\"strict\",\"coloraxis\":{\"colorbar\":{\"outlinewidth\":1,\"tickcolor\":\"rgb(36,36,36)\",\"ticks\":\"outside\"}},\"colorscale\":{\"diverging\":[[0.0,\"rgb(103,0,31)\"],[0.1,\"rgb(178,24,43)\"],[0.2,\"rgb(214,96,77)\"],[0.3,\"rgb(244,165,130)\"],[0.4,\"rgb(253,219,199)\"],[0.5,\"rgb(247,247,247)\"],[0.6,\"rgb(209,229,240)\"],[0.7,\"rgb(146,197,222)\"],[0.8,\"rgb(67,147,195)\"],[0.9,\"rgb(33,102,172)\"],[1.0,\"rgb(5,48,97)\"]],\"sequential\":[[0.0,\"#440154\"],[0.1111111111111111,\"#482878\"],[0.2222222222222222,\"#3e4989\"],[0.3333333333333333,\"#31688e\"],[0.4444444444444444,\"#26828e\"],[0.5555555555555556,\"#1f9e89\"],[0.6666666666666666,\"#35b779\"],[0.7777777777777778,\"#6ece58\"],[0.8888888888888888,\"#b5de2b\"],[1.0,\"#fde725\"]],\"sequentialminus\":[[0.0,\"#440154\"],[0.1111111111111111,\"#482878\"],[0.2222222222222222,\"#3e4989\"],[0.3333333333333333,\"#31688e\"],[0.4444444444444444,\"#26828e\"],[0.5555555555555556,\"#1f9e89\"],[0.6666666666666666,\"#35b779\"],[0.7777777777777778,\"#6ece58\"],[0.8888888888888888,\"#b5de2b\"],[1.0,\"#fde725\"]]},\"colorway\":[\"#1F77B4\",\"#FF7F0E\",\"#2CA02C\",\"#D62728\",\"#9467BD\",\"#8C564B\",\"#E377C2\",\"#7F7F7F\",\"#BCBD22\",\"#17BECF\"],\"font\":{\"color\":\"rgb(36,36,36)\"},\"geo\":{\"bgcolor\":\"white\",\"lakecolor\":\"white\",\"landcolor\":\"white\",\"showlakes\":true,\"showland\":true,\"subunitcolor\":\"white\"},\"hoverlabel\":{\"align\":\"left\"},\"hovermode\":\"closest\",\"mapbox\":{\"style\":\"light\"},\"paper_bgcolor\":\"white\",\"plot_bgcolor\":\"white\",\"polar\":{\"angularaxis\":{\"gridcolor\":\"rgb(232,232,232)\",\"linecolor\":\"rgb(36,36,36)\",\"showgrid\":false,\"showline\":true,\"ticks\":\"outside\"},\"bgcolor\":\"white\",\"radialaxis\":{\"gridcolor\":\"rgb(232,232,232)\",\"linecolor\":\"rgb(36,36,36)\",\"showgrid\":false,\"showline\":true,\"ticks\":\"outside\"}},\"scene\":{\"xaxis\":{\"backgroundcolor\":\"white\",\"gridcolor\":\"rgb(232,232,232)\",\"gridwidth\":2,\"linecolor\":\"rgb(36,36,36)\",\"showbackground\":true,\"showgrid\":false,\"showline\":true,\"ticks\":\"outside\",\"zeroline\":false,\"zerolinecolor\":\"rgb(36,36,36)\"},\"yaxis\":{\"backgroundcolor\":\"white\",\"gridcolor\":\"rgb(232,232,232)\",\"gridwidth\":2,\"linecolor\":\"rgb(36,36,36)\",\"showbackground\":true,\"showgrid\":false,\"showline\":true,\"ticks\":\"outside\",\"zeroline\":false,\"zerolinecolor\":\"rgb(36,36,36)\"},\"zaxis\":{\"backgroundcolor\":\"white\",\"gridcolor\":\"rgb(232,232,232)\",\"gridwidth\":2,\"linecolor\":\"rgb(36,36,36)\",\"showbackground\":true,\"showgrid\":false,\"showline\":true,\"ticks\":\"outside\",\"zeroline\":false,\"zerolinecolor\":\"rgb(36,36,36)\"}},\"shapedefaults\":{\"fillcolor\":\"black\",\"line\":{\"width\":0},\"opacity\":0.3},\"ternary\":{\"aaxis\":{\"gridcolor\":\"rgb(232,232,232)\",\"linecolor\":\"rgb(36,36,36)\",\"showgrid\":false,\"showline\":true,\"ticks\":\"outside\"},\"baxis\":{\"gridcolor\":\"rgb(232,232,232)\",\"linecolor\":\"rgb(36,36,36)\",\"showgrid\":false,\"showline\":true,\"ticks\":\"outside\"},\"bgcolor\":\"white\",\"caxis\":{\"gridcolor\":\"rgb(232,232,232)\",\"linecolor\":\"rgb(36,36,36)\",\"showgrid\":false,\"showline\":true,\"ticks\":\"outside\"}},\"title\":{\"x\":0.05},\"xaxis\":{\"automargin\":true,\"gridcolor\":\"rgb(232,232,232)\",\"linecolor\":\"rgb(36,36,36)\",\"showgrid\":false,\"showline\":true,\"ticks\":\"outside\",\"title\":{\"standoff\":15},\"zeroline\":false,\"zerolinecolor\":\"rgb(36,36,36)\"},\"yaxis\":{\"automargin\":true,\"gridcolor\":\"rgb(232,232,232)\",\"linecolor\":\"rgb(36,36,36)\",\"showgrid\":false,\"showline\":true,\"ticks\":\"outside\",\"title\":{\"standoff\":15},\"zeroline\":false,\"zerolinecolor\":\"rgb(36,36,36)\"}}},\"xaxis\":{\"anchor\":\"y\",\"domain\":[0.0,1.0],\"title\":{\"text\":\"\"},\"visible\":false,\"range\":[14.65646572113037,23.067444229125975]},\"yaxis\":{\"anchor\":\"x\",\"domain\":[0.0,1.0],\"title\":{\"text\":\"\"},\"visible\":false,\"range\":[1.4937791883945466,6.480340194702149]},\"legend\":{\"tracegroupgap\":0,\"itemsizing\":\"constant\"},\"margin\":{\"t\":60},\"title\":{\"font\":{\"size\":22,\"color\":\"Black\"},\"text\":\"<b>Intertopic Distance Map\",\"y\":0.95,\"x\":0.5,\"xanchor\":\"center\",\"yanchor\":\"top\"},\"hoverlabel\":{\"font\":{\"size\":16,\"family\":\"Rockwell\"},\"bgcolor\":\"white\"},\"width\":650,\"height\":650,\"sliders\":[{\"active\":0,\"pad\":{\"t\":50},\"steps\":[{\"args\":[{\"marker.color\":[[\"red\",\"#B0BEC5\",\"#B0BEC5\",\"#B0BEC5\",\"#B0BEC5\"]]}],\"label\":\"Topic 0\",\"method\":\"update\"},{\"args\":[{\"marker.color\":[[\"#B0BEC5\",\"red\",\"#B0BEC5\",\"#B0BEC5\",\"#B0BEC5\"]]}],\"label\":\"Topic 1\",\"method\":\"update\"},{\"args\":[{\"marker.color\":[[\"#B0BEC5\",\"#B0BEC5\",\"red\",\"#B0BEC5\",\"#B0BEC5\"]]}],\"label\":\"Topic 2\",\"method\":\"update\"},{\"args\":[{\"marker.color\":[[\"#B0BEC5\",\"#B0BEC5\",\"#B0BEC5\",\"red\",\"#B0BEC5\"]]}],\"label\":\"Topic 3\",\"method\":\"update\"},{\"args\":[{\"marker.color\":[[\"#B0BEC5\",\"#B0BEC5\",\"#B0BEC5\",\"#B0BEC5\",\"red\"]]}],\"label\":\"Topic 4\",\"method\":\"update\"}]}],\"shapes\":[{\"line\":{\"color\":\"#CFD8DC\",\"width\":2},\"type\":\"line\",\"x0\":18.86195497512817,\"x1\":18.86195497512817,\"y0\":1.4937791883945466,\"y1\":6.480340194702149},{\"line\":{\"color\":\"#9E9E9E\",\"width\":2},\"type\":\"line\",\"x0\":14.65646572113037,\"x1\":23.067444229125975,\"y0\":3.987059691548348,\"y1\":3.987059691548348}],\"annotations\":[{\"showarrow\":false,\"text\":\"D1\",\"x\":14.65646572113037,\"y\":3.987059691548348,\"yshift\":10},{\"showarrow\":false,\"text\":\"D2\",\"x\":18.86195497512817,\"xshift\":10,\"y\":6.480340194702149}]},                        {\"responsive\": true}                    ).then(function(){\n",
              "                            \n",
              "var gd = document.getElementById('b8120fb0-4856-4ca5-95c6-383047c0e9ad');\n",
              "var x = new MutationObserver(function (mutations, observer) {{\n",
              "        var display = window.getComputedStyle(gd).display;\n",
              "        if (!display || display === 'none') {{\n",
              "            console.log([gd, 'removed!']);\n",
              "            Plotly.purge(gd);\n",
              "            observer.disconnect();\n",
              "        }}\n",
              "}});\n",
              "\n",
              "// Listen for the removal of the full notebook cells\n",
              "var notebookContainer = gd.closest('#notebook-container');\n",
              "if (notebookContainer) {{\n",
              "    x.observe(notebookContainer, {childList: true});\n",
              "}}\n",
              "\n",
              "// Listen for the clearing of the current output cell\n",
              "var outputEl = gd.closest('.output');\n",
              "if (outputEl) {{\n",
              "    x.observe(outputEl, {childList: true});\n",
              "}}\n",
              "\n",
              "                        })                };                            </script>        </div>\n",
              "</body>\n",
              "</html>"
            ]
          },
          "metadata": {}
        }
      ]
    },
    {
      "cell_type": "markdown",
      "source": [
        "Based on the plot above, we can see that topics 0, 2 and 3 are similar to each other and topics 1 and 4 are similar to each other. We can also see that between topics 0, 2, 3 and topics 1 and 4, there is a great distance between these two groups which shows low similarity between the two groups."
      ],
      "metadata": {
        "id": "PKXA9qL4n6-d"
      },
      "id": "PKXA9qL4n6-d"
    },
    {
      "cell_type": "markdown",
      "source": [
        "---"
      ],
      "metadata": {
        "id": "jqC7x2X8o0Ye"
      },
      "id": "jqC7x2X8o0Ye"
    },
    {
      "cell_type": "markdown",
      "source": [
        "## Summary"
      ],
      "metadata": {
        "id": "u1Tl1AA7pFvg"
      },
      "id": "u1Tl1AA7pFvg"
    },
    {
      "cell_type": "markdown",
      "source": [
        "In summary, we have managed to cluster last statements of inmates into five different topics.\n",
        "\n",
        "Topic 0: Forgiveness\n",
        "\n",
        "Topic 1: Love, Family and Acceptance\n",
        "\n",
        "Topic 2: Love, Family and Frustrations\n",
        "\n",
        "Topic 3: Religion\n",
        "\n",
        "Topic 4: No last statement"
      ],
      "metadata": {
        "id": "d5p__RF-pHpf"
      },
      "id": "d5p__RF-pHpf"
    },
    {
      "cell_type": "markdown",
      "source": [
        "---"
      ],
      "metadata": {
        "id": "5OrlFMnAqSoM"
      },
      "id": "5OrlFMnAqSoM"
    }
  ],
  "metadata": {
    "kernelspec": {
      "display_name": "Python 3 (ipykernel)",
      "language": "python",
      "name": "python3"
    },
    "language_info": {
      "codemirror_mode": {
        "name": "ipython",
        "version": 3
      },
      "file_extension": ".py",
      "mimetype": "text/x-python",
      "name": "python",
      "nbconvert_exporter": "python",
      "pygments_lexer": "ipython3",
      "version": "3.9.12"
    },
    "colab": {
      "provenance": [],
      "include_colab_link": true
    }
  },
  "nbformat": 4,
  "nbformat_minor": 5
}