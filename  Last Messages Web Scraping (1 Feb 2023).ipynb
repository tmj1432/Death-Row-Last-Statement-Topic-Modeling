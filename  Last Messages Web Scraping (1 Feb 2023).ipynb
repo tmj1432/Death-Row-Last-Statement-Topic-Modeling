{
 "cells": [
  {
   "cell_type": "markdown",
   "id": "50cdf8e9",
   "metadata": {},
   "source": [
    "# Last Messages Web Scraping (1 Feb 2023)"
   ]
  },
  {
   "cell_type": "markdown",
   "id": "be41820d",
   "metadata": {},
   "source": [
    "---"
   ]
  },
  {
   "cell_type": "markdown",
   "id": "47512441",
   "metadata": {},
   "source": [
    "## Import Libraries"
   ]
  },
  {
   "cell_type": "code",
   "execution_count": 1,
   "id": "f5237d2e",
   "metadata": {},
   "outputs": [],
   "source": [
    "import requests\n",
    "import bs4 \n",
    "import re\n",
    "import pandas as pd\n",
    "\n",
    "# Ignore warnings\n",
    "import warnings\n",
    "warnings.filterwarnings(\"ignore\")"
   ]
  },
  {
   "cell_type": "markdown",
   "id": "d8f1173c",
   "metadata": {},
   "source": [
    "---"
   ]
  },
  {
   "cell_type": "markdown",
   "id": "2c27e196",
   "metadata": {},
   "source": [
    "## Get links"
   ]
  },
  {
   "cell_type": "code",
   "execution_count": 2,
   "id": "73d20a5b",
   "metadata": {},
   "outputs": [],
   "source": [
    "url = 'https://www.tdcj.texas.gov/death_row/dr_executed_offenders.html'"
   ]
  },
  {
   "cell_type": "code",
   "execution_count": 3,
   "id": "81693514",
   "metadata": {
    "scrolled": true
   },
   "outputs": [],
   "source": [
    "res = requests.get(url, verify=False)"
   ]
  },
  {
   "cell_type": "code",
   "execution_count": 4,
   "id": "7b6692d5",
   "metadata": {},
   "outputs": [],
   "source": [
    "soup = bs4.BeautifulSoup(res.text, 'lxml')\n",
    "links = soup.findAll('a', href=re.compile('last.html$'))"
   ]
  },
  {
   "cell_type": "code",
   "execution_count": 5,
   "id": "19c1369f",
   "metadata": {
    "scrolled": true
   },
   "outputs": [],
   "source": [
    "last_message_links = []\n",
    "for link in links:\n",
    "    last_message_links.append(link['href'])"
   ]
  },
  {
   "cell_type": "code",
   "execution_count": 6,
   "id": "69a86e90",
   "metadata": {
    "scrolled": false
   },
   "outputs": [
    {
     "data": {
      "text/plain": [
       "475"
      ]
     },
     "execution_count": 6,
     "metadata": {},
     "output_type": "execute_result"
    }
   ],
   "source": [
    "len(last_message_links)"
   ]
  },
  {
   "cell_type": "markdown",
   "id": "de9b4878",
   "metadata": {},
   "source": [
    "---"
   ]
  },
  {
   "cell_type": "markdown",
   "id": "7f5999fd",
   "metadata": {},
   "source": [
    "## Get Last Message"
   ]
  },
  {
   "cell_type": "code",
   "execution_count": 7,
   "id": "78cfd75d",
   "metadata": {},
   "outputs": [],
   "source": [
    "last_messages = []"
   ]
  },
  {
   "cell_type": "code",
   "execution_count": 8,
   "id": "d3a9425b",
   "metadata": {
    "scrolled": true
   },
   "outputs": [],
   "source": [
    "# loop through all the links\n",
    "for link in last_message_links:\n",
    "    url = f'https://www.tdcj.texas.gov/death_row/{link}'\n",
    "    response = requests.get(url, verify=False)\n",
    "    soup = bs4.BeautifulSoup(response.text,'lxml')\n",
    "    quote = soup.find_all(\"p\")\n",
    "    temp_list = []\n",
    "    # store all info in temporary list before appending to main list\n",
    "    for para in quote:\n",
    "        temp_list.append(para.get_text())\n",
    "    last_messages.append(temp_list)"
   ]
  },
  {
   "cell_type": "code",
   "execution_count": 9,
   "id": "597eef7a",
   "metadata": {
    "scrolled": false
   },
   "outputs": [
    {
     "data": {
      "text/html": [
       "<div>\n",
       "<style scoped>\n",
       "    .dataframe tbody tr th:only-of-type {\n",
       "        vertical-align: middle;\n",
       "    }\n",
       "\n",
       "    .dataframe tbody tr th {\n",
       "        vertical-align: top;\n",
       "    }\n",
       "\n",
       "    .dataframe thead th {\n",
       "        text-align: right;\n",
       "    }\n",
       "</style>\n",
       "<table border=\"1\" class=\"dataframe\">\n",
       "  <thead>\n",
       "    <tr style=\"text-align: right;\">\n",
       "      <th></th>\n",
       "      <th>0</th>\n",
       "      <th>1</th>\n",
       "      <th>2</th>\n",
       "      <th>3</th>\n",
       "      <th>4</th>\n",
       "      <th>5</th>\n",
       "      <th>6</th>\n",
       "      <th>7</th>\n",
       "      <th>8</th>\n",
       "      <th>9</th>\n",
       "      <th>10</th>\n",
       "      <th>11</th>\n",
       "    </tr>\n",
       "  </thead>\n",
       "  <tbody>\n",
       "    <tr>\n",
       "      <th>0</th>\n",
       "      <td>Date of Execution:</td>\n",
       "      <td>January 10, 2023</td>\n",
       "      <td>Inmate:</td>\n",
       "      <td>Robert Alan Fratta, #999189</td>\n",
       "      <td>Last Statement:</td>\n",
       "      <td>No last statement given.</td>\n",
       "      <td>None</td>\n",
       "      <td>None</td>\n",
       "      <td>None</td>\n",
       "      <td>None</td>\n",
       "      <td>None</td>\n",
       "      <td>None</td>\n",
       "    </tr>\n",
       "    <tr>\n",
       "      <th>1</th>\n",
       "      <td>Date of Execution:</td>\n",
       "      <td>November 16, 2022</td>\n",
       "      <td>Inmate:</td>\n",
       "      <td>Stephen Barbee</td>\n",
       "      <td>Last Statement:</td>\n",
       "      <td>I want to take this moment to be shared with e...</td>\n",
       "      <td>None</td>\n",
       "      <td>None</td>\n",
       "      <td>None</td>\n",
       "      <td>None</td>\n",
       "      <td>None</td>\n",
       "      <td>None</td>\n",
       "    </tr>\n",
       "    <tr>\n",
       "      <th>2</th>\n",
       "      <td>Date of Execution:</td>\n",
       "      <td>November 9, 2022</td>\n",
       "      <td>Inmate:</td>\n",
       "      <td>Tracy Beatty, #999484</td>\n",
       "      <td>Last Statement:</td>\n",
       "      <td>Yes, I just want to  thank (pause) I don’t wan...</td>\n",
       "      <td>None</td>\n",
       "      <td>None</td>\n",
       "      <td>None</td>\n",
       "      <td>None</td>\n",
       "      <td>None</td>\n",
       "      <td>None</td>\n",
       "    </tr>\n",
       "    <tr>\n",
       "      <th>3</th>\n",
       "      <td>Date of Execution:</td>\n",
       "      <td>October 5, 2022</td>\n",
       "      <td>Inmate:</td>\n",
       "      <td>John Henry Ramirez, #999544</td>\n",
       "      <td>Last Statement:</td>\n",
       "      <td>I just want to say to  the family of Pablo Cas...</td>\n",
       "      <td>None</td>\n",
       "      <td>None</td>\n",
       "      <td>None</td>\n",
       "      <td>None</td>\n",
       "      <td>None</td>\n",
       "      <td>None</td>\n",
       "    </tr>\n",
       "    <tr>\n",
       "      <th>4</th>\n",
       "      <td>Date of Execution:</td>\n",
       "      <td>August 17, 2022</td>\n",
       "      <td>Inmate:</td>\n",
       "      <td>Kosol Chanthakoummane, #999529</td>\n",
       "      <td>Last Statement:</td>\n",
       "      <td>I would like to thank my  Jesus Christ my Lord...</td>\n",
       "      <td></td>\n",
       "      <td>None</td>\n",
       "      <td>None</td>\n",
       "      <td>None</td>\n",
       "      <td>None</td>\n",
       "      <td>None</td>\n",
       "    </tr>\n",
       "    <tr>\n",
       "      <th>...</th>\n",
       "      <td>...</td>\n",
       "      <td>...</td>\n",
       "      <td>...</td>\n",
       "      <td>...</td>\n",
       "      <td>...</td>\n",
       "      <td>...</td>\n",
       "      <td>...</td>\n",
       "      <td>...</td>\n",
       "      <td>...</td>\n",
       "      <td>...</td>\n",
       "      <td>...</td>\n",
       "      <td>...</td>\n",
       "    </tr>\n",
       "    <tr>\n",
       "      <th>470</th>\n",
       "      <td>Date of Execution:</td>\n",
       "      <td>March 13, 1985</td>\n",
       "      <td>Inmate:</td>\n",
       "      <td>Stephen Peter Morin #712</td>\n",
       "      <td>Last Statement:</td>\n",
       "      <td>Heavenly Father, I give thanks for this time, ...</td>\n",
       "      <td>None</td>\n",
       "      <td>None</td>\n",
       "      <td>None</td>\n",
       "      <td>None</td>\n",
       "      <td>None</td>\n",
       "      <td>None</td>\n",
       "    </tr>\n",
       "    <tr>\n",
       "      <th>471</th>\n",
       "      <td>Date of Execution:</td>\n",
       "      <td>January 16, 1985</td>\n",
       "      <td>Inmate:</td>\n",
       "      <td>Doyle Skillern #518</td>\n",
       "      <td>Last Statement:</td>\n",
       "      <td>I pray that my family will rejoice and will fo...</td>\n",
       "      <td>None</td>\n",
       "      <td>None</td>\n",
       "      <td>None</td>\n",
       "      <td>None</td>\n",
       "      <td>None</td>\n",
       "      <td>None</td>\n",
       "    </tr>\n",
       "    <tr>\n",
       "      <th>472</th>\n",
       "      <td>Date of Execution:</td>\n",
       "      <td>October 30, 1984</td>\n",
       "      <td>Inmate:</td>\n",
       "      <td>Thomas Barefoot #621</td>\n",
       "      <td>Last Statement:</td>\n",
       "      <td>When asked if he had a last statement, he rep...</td>\n",
       "      <td>None</td>\n",
       "      <td>None</td>\n",
       "      <td>None</td>\n",
       "      <td>None</td>\n",
       "      <td>None</td>\n",
       "      <td>None</td>\n",
       "    </tr>\n",
       "    <tr>\n",
       "      <th>473</th>\n",
       "      <td>Date of Execution:</td>\n",
       "      <td>March 30, 1984</td>\n",
       "      <td>Inmate:</td>\n",
       "      <td>Ronald Clark O’Bryan #529</td>\n",
       "      <td>Last Statement:</td>\n",
       "      <td>What is about to transpire in a few moments is...</td>\n",
       "      <td>None</td>\n",
       "      <td>None</td>\n",
       "      <td>None</td>\n",
       "      <td>None</td>\n",
       "      <td>None</td>\n",
       "      <td>None</td>\n",
       "    </tr>\n",
       "    <tr>\n",
       "      <th>474</th>\n",
       "      <td>Date of Execution:</td>\n",
       "      <td>December 7, 1982</td>\n",
       "      <td>Inmate:</td>\n",
       "      <td>Charlie Brooks, Jr. #592</td>\n",
       "      <td>Last Statement:</td>\n",
       "      <td>Statement to the Media: I, at this very moment...</td>\n",
       "      <td>Spoken:</td>\n",
       "      <td>Yes, I do. \\r\\n  I love you. \\r\\n  Asdadu an l...</td>\n",
       "      <td>None</td>\n",
       "      <td>None</td>\n",
       "      <td>None</td>\n",
       "      <td>None</td>\n",
       "    </tr>\n",
       "  </tbody>\n",
       "</table>\n",
       "<p>475 rows × 12 columns</p>\n",
       "</div>"
      ],
      "text/plain": [
       "                       0                  1        2   \\\n",
       "0    Date of Execution:     January 10, 2023  Inmate:   \n",
       "1    Date of Execution:    November 16, 2022  Inmate:   \n",
       "2    Date of Execution:     November 9, 2022  Inmate:   \n",
       "3      Date of Execution:    October 5, 2022  Inmate:   \n",
       "4    Date of Execution:      August 17, 2022  Inmate:   \n",
       "..                    ...                ...      ...   \n",
       "470    Date of Execution:     March 13, 1985  Inmate:   \n",
       "471    Date of Execution:   January 16, 1985  Inmate:   \n",
       "472  Date of Execution:     October 30, 1984  Inmate:   \n",
       "473    Date of Execution:     March 30, 1984  Inmate:   \n",
       "474    Date of Execution:   December 7, 1982  Inmate:   \n",
       "\n",
       "                                  3                   4   \\\n",
       "0        Robert Alan Fratta, #999189     Last Statement:   \n",
       "1                     Stephen Barbee     Last Statement:   \n",
       "2              Tracy Beatty, #999484     Last Statement:   \n",
       "3        John Henry Ramirez, #999544     Last Statement:   \n",
       "4     Kosol Chanthakoummane, #999529   Last Statement:     \n",
       "..                               ...                 ...   \n",
       "470         Stephen Peter Morin #712     Last Statement:   \n",
       "471              Doyle Skillern #518     Last Statement:   \n",
       "472             Thomas Barefoot #621     Last Statement:   \n",
       "473        Ronald Clark O’Bryan #529     Last Statement:   \n",
       "474         Charlie Brooks, Jr. #592     Last Statement:   \n",
       "\n",
       "                                                    5        6   \\\n",
       "0                             No last statement given.     None   \n",
       "1    I want to take this moment to be shared with e...     None   \n",
       "2    Yes, I just want to  thank (pause) I don’t wan...     None   \n",
       "3    I just want to say to  the family of Pablo Cas...     None   \n",
       "4    I would like to thank my  Jesus Christ my Lord...            \n",
       "..                                                 ...      ...   \n",
       "470  Heavenly Father, I give thanks for this time, ...     None   \n",
       "471  I pray that my family will rejoice and will fo...     None   \n",
       "472   When asked if he had a last statement, he rep...     None   \n",
       "473  What is about to transpire in a few moments is...     None   \n",
       "474  Statement to the Media: I, at this very moment...  Spoken:   \n",
       "\n",
       "                                                    7     8     9     10    11  \n",
       "0                                                 None  None  None  None  None  \n",
       "1                                                 None  None  None  None  None  \n",
       "2                                                 None  None  None  None  None  \n",
       "3                                                 None  None  None  None  None  \n",
       "4                                                 None  None  None  None  None  \n",
       "..                                                 ...   ...   ...   ...   ...  \n",
       "470                                               None  None  None  None  None  \n",
       "471                                               None  None  None  None  None  \n",
       "472                                               None  None  None  None  None  \n",
       "473                                               None  None  None  None  None  \n",
       "474  Yes, I do. \\r\\n  I love you. \\r\\n  Asdadu an l...  None  None  None  None  \n",
       "\n",
       "[475 rows x 12 columns]"
      ]
     },
     "execution_count": 9,
     "metadata": {},
     "output_type": "execute_result"
    }
   ],
   "source": [
    "last_messages_df = pd.DataFrame(last_messages)\n",
    "last_messages_df"
   ]
  },
  {
   "cell_type": "markdown",
   "id": "bdab433d",
   "metadata": {},
   "source": [
    "---"
   ]
  },
  {
   "cell_type": "markdown",
   "id": "723e5860",
   "metadata": {},
   "source": [
    "## Export DataFrame to CSV"
   ]
  },
  {
   "cell_type": "code",
   "execution_count": 16,
   "id": "518e4274",
   "metadata": {
    "scrolled": false
   },
   "outputs": [],
   "source": [
    "last_messages_df.to_csv('last_messages.csv')"
   ]
  }
 ],
 "metadata": {
  "kernelspec": {
   "display_name": "Python 3 (ipykernel)",
   "language": "python",
   "name": "python3"
  },
  "language_info": {
   "codemirror_mode": {
    "name": "ipython",
    "version": 3
   },
   "file_extension": ".py",
   "mimetype": "text/x-python",
   "name": "python",
   "nbconvert_exporter": "python",
   "pygments_lexer": "ipython3",
   "version": "3.9.12"
  }
 },
 "nbformat": 4,
 "nbformat_minor": 5
}
